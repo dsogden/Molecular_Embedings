{
  "nbformat": 4,
  "nbformat_minor": 0,
  "metadata": {
    "colab": {
      "provenance": [],
      "gpuType": "T4",
      "mount_file_id": "1n7yHuhQyUVbcI377mtXoKcirvgrSV1Uy",
      "authorship_tag": "ABX9TyM3+La7S5iegYj1RGa0LF1Z",
      "include_colab_link": true
    },
    "kernelspec": {
      "name": "python3",
      "display_name": "Python 3"
    },
    "language_info": {
      "name": "python"
    },
    "accelerator": "GPU"
  },
  "cells": [
    {
      "cell_type": "markdown",
      "metadata": {
        "id": "view-in-github",
        "colab_type": "text"
      },
      "source": [
        "<a href=\"https://colab.research.google.com/github/dsogden/Molecular_Embedings/blob/main/MolEmbed_Torch_Improvements.ipynb\" target=\"_parent\"><img src=\"https://colab.research.google.com/assets/colab-badge.svg\" alt=\"Open In Colab\"/></a>"
      ]
    },
    {
      "cell_type": "code",
      "execution_count": null,
      "metadata": {
        "colab": {
          "base_uri": "https://localhost:8080/",
          "height": 296
        },
        "id": "lL_XUWFhzPac",
        "outputId": "6bea6048-6eba-4bf4-ee2c-8b1d411222e7"
      },
      "outputs": [
        {
          "output_type": "stream",
          "name": "stdout",
          "text": [
            "fatal: destination path 'Molecular_Embedings' already exists and is not an empty directory.\n",
            "cuda:0\n"
          ]
        },
        {
          "output_type": "execute_result",
          "data": {
            "text/plain": [
              "   NR-AR  NR-AR-LBD  NR-AhR  NR-Aromatase  NR-ER  NR-ER-LBD  NR-PPAR-gamma  \\\n",
              "0    0.0        0.0     1.0           NaN    NaN        0.0            0.0   \n",
              "1    0.0        0.0     0.0           0.0    0.0        0.0            0.0   \n",
              "2    NaN        NaN     NaN           NaN    NaN        NaN            NaN   \n",
              "3    0.0        0.0     0.0           0.0    0.0        0.0            0.0   \n",
              "4    0.0        0.0     NaN           0.0    0.0        0.0            0.0   \n",
              "\n",
              "   SR-ARE  SR-ATAD5  SR-HSE  SR-MMP  SR-p53   mol_id  \\\n",
              "0     1.0       0.0     0.0     0.0     0.0  TOX3021   \n",
              "1     NaN       0.0     NaN     0.0     0.0  TOX3020   \n",
              "2     0.0       NaN     0.0     NaN     NaN  TOX3024   \n",
              "3     NaN       0.0     NaN     0.0     0.0  TOX3027   \n",
              "4     0.0       0.0     0.0     NaN     0.0  TOX3028   \n",
              "\n",
              "                                              smiles  \n",
              "0                       CCOc1ccc2nc(S(N)(=O)=O)sc2c1  \n",
              "1                          CCN1C(=O)NC(c2ccccc2)C1=O  \n",
              "2  CC[C@]1(O)CC[C@H]2[C@@H]3CCC4=CCCC[C@@H]4[C@H]...  \n",
              "3                    CCCN(CC)C(CC)C(=O)Nc1c(C)cccc1C  \n",
              "4                          CC(O)(P(=O)(O)O)P(=O)(O)O  "
            ],
            "text/html": [
              "\n",
              "  <div id=\"df-b1439c3f-3c0f-4f8f-a0b6-8e8747c32a1b\" class=\"colab-df-container\">\n",
              "    <div>\n",
              "<style scoped>\n",
              "    .dataframe tbody tr th:only-of-type {\n",
              "        vertical-align: middle;\n",
              "    }\n",
              "\n",
              "    .dataframe tbody tr th {\n",
              "        vertical-align: top;\n",
              "    }\n",
              "\n",
              "    .dataframe thead th {\n",
              "        text-align: right;\n",
              "    }\n",
              "</style>\n",
              "<table border=\"1\" class=\"dataframe\">\n",
              "  <thead>\n",
              "    <tr style=\"text-align: right;\">\n",
              "      <th></th>\n",
              "      <th>NR-AR</th>\n",
              "      <th>NR-AR-LBD</th>\n",
              "      <th>NR-AhR</th>\n",
              "      <th>NR-Aromatase</th>\n",
              "      <th>NR-ER</th>\n",
              "      <th>NR-ER-LBD</th>\n",
              "      <th>NR-PPAR-gamma</th>\n",
              "      <th>SR-ARE</th>\n",
              "      <th>SR-ATAD5</th>\n",
              "      <th>SR-HSE</th>\n",
              "      <th>SR-MMP</th>\n",
              "      <th>SR-p53</th>\n",
              "      <th>mol_id</th>\n",
              "      <th>smiles</th>\n",
              "    </tr>\n",
              "  </thead>\n",
              "  <tbody>\n",
              "    <tr>\n",
              "      <th>0</th>\n",
              "      <td>0.0</td>\n",
              "      <td>0.0</td>\n",
              "      <td>1.0</td>\n",
              "      <td>NaN</td>\n",
              "      <td>NaN</td>\n",
              "      <td>0.0</td>\n",
              "      <td>0.0</td>\n",
              "      <td>1.0</td>\n",
              "      <td>0.0</td>\n",
              "      <td>0.0</td>\n",
              "      <td>0.0</td>\n",
              "      <td>0.0</td>\n",
              "      <td>TOX3021</td>\n",
              "      <td>CCOc1ccc2nc(S(N)(=O)=O)sc2c1</td>\n",
              "    </tr>\n",
              "    <tr>\n",
              "      <th>1</th>\n",
              "      <td>0.0</td>\n",
              "      <td>0.0</td>\n",
              "      <td>0.0</td>\n",
              "      <td>0.0</td>\n",
              "      <td>0.0</td>\n",
              "      <td>0.0</td>\n",
              "      <td>0.0</td>\n",
              "      <td>NaN</td>\n",
              "      <td>0.0</td>\n",
              "      <td>NaN</td>\n",
              "      <td>0.0</td>\n",
              "      <td>0.0</td>\n",
              "      <td>TOX3020</td>\n",
              "      <td>CCN1C(=O)NC(c2ccccc2)C1=O</td>\n",
              "    </tr>\n",
              "    <tr>\n",
              "      <th>2</th>\n",
              "      <td>NaN</td>\n",
              "      <td>NaN</td>\n",
              "      <td>NaN</td>\n",
              "      <td>NaN</td>\n",
              "      <td>NaN</td>\n",
              "      <td>NaN</td>\n",
              "      <td>NaN</td>\n",
              "      <td>0.0</td>\n",
              "      <td>NaN</td>\n",
              "      <td>0.0</td>\n",
              "      <td>NaN</td>\n",
              "      <td>NaN</td>\n",
              "      <td>TOX3024</td>\n",
              "      <td>CC[C@]1(O)CC[C@H]2[C@@H]3CCC4=CCCC[C@@H]4[C@H]...</td>\n",
              "    </tr>\n",
              "    <tr>\n",
              "      <th>3</th>\n",
              "      <td>0.0</td>\n",
              "      <td>0.0</td>\n",
              "      <td>0.0</td>\n",
              "      <td>0.0</td>\n",
              "      <td>0.0</td>\n",
              "      <td>0.0</td>\n",
              "      <td>0.0</td>\n",
              "      <td>NaN</td>\n",
              "      <td>0.0</td>\n",
              "      <td>NaN</td>\n",
              "      <td>0.0</td>\n",
              "      <td>0.0</td>\n",
              "      <td>TOX3027</td>\n",
              "      <td>CCCN(CC)C(CC)C(=O)Nc1c(C)cccc1C</td>\n",
              "    </tr>\n",
              "    <tr>\n",
              "      <th>4</th>\n",
              "      <td>0.0</td>\n",
              "      <td>0.0</td>\n",
              "      <td>NaN</td>\n",
              "      <td>0.0</td>\n",
              "      <td>0.0</td>\n",
              "      <td>0.0</td>\n",
              "      <td>0.0</td>\n",
              "      <td>0.0</td>\n",
              "      <td>0.0</td>\n",
              "      <td>0.0</td>\n",
              "      <td>NaN</td>\n",
              "      <td>0.0</td>\n",
              "      <td>TOX3028</td>\n",
              "      <td>CC(O)(P(=O)(O)O)P(=O)(O)O</td>\n",
              "    </tr>\n",
              "  </tbody>\n",
              "</table>\n",
              "</div>\n",
              "    <div class=\"colab-df-buttons\">\n",
              "\n",
              "  <div class=\"colab-df-container\">\n",
              "    <button class=\"colab-df-convert\" onclick=\"convertToInteractive('df-b1439c3f-3c0f-4f8f-a0b6-8e8747c32a1b')\"\n",
              "            title=\"Convert this dataframe to an interactive table.\"\n",
              "            style=\"display:none;\">\n",
              "\n",
              "  <svg xmlns=\"http://www.w3.org/2000/svg\" height=\"24px\" viewBox=\"0 -960 960 960\">\n",
              "    <path d=\"M120-120v-720h720v720H120Zm60-500h600v-160H180v160Zm220 220h160v-160H400v160Zm0 220h160v-160H400v160ZM180-400h160v-160H180v160Zm440 0h160v-160H620v160ZM180-180h160v-160H180v160Zm440 0h160v-160H620v160Z\"/>\n",
              "  </svg>\n",
              "    </button>\n",
              "\n",
              "  <style>\n",
              "    .colab-df-container {\n",
              "      display:flex;\n",
              "      gap: 12px;\n",
              "    }\n",
              "\n",
              "    .colab-df-convert {\n",
              "      background-color: #E8F0FE;\n",
              "      border: none;\n",
              "      border-radius: 50%;\n",
              "      cursor: pointer;\n",
              "      display: none;\n",
              "      fill: #1967D2;\n",
              "      height: 32px;\n",
              "      padding: 0 0 0 0;\n",
              "      width: 32px;\n",
              "    }\n",
              "\n",
              "    .colab-df-convert:hover {\n",
              "      background-color: #E2EBFA;\n",
              "      box-shadow: 0px 1px 2px rgba(60, 64, 67, 0.3), 0px 1px 3px 1px rgba(60, 64, 67, 0.15);\n",
              "      fill: #174EA6;\n",
              "    }\n",
              "\n",
              "    .colab-df-buttons div {\n",
              "      margin-bottom: 4px;\n",
              "    }\n",
              "\n",
              "    [theme=dark] .colab-df-convert {\n",
              "      background-color: #3B4455;\n",
              "      fill: #D2E3FC;\n",
              "    }\n",
              "\n",
              "    [theme=dark] .colab-df-convert:hover {\n",
              "      background-color: #434B5C;\n",
              "      box-shadow: 0px 1px 3px 1px rgba(0, 0, 0, 0.15);\n",
              "      filter: drop-shadow(0px 1px 2px rgba(0, 0, 0, 0.3));\n",
              "      fill: #FFFFFF;\n",
              "    }\n",
              "  </style>\n",
              "\n",
              "    <script>\n",
              "      const buttonEl =\n",
              "        document.querySelector('#df-b1439c3f-3c0f-4f8f-a0b6-8e8747c32a1b button.colab-df-convert');\n",
              "      buttonEl.style.display =\n",
              "        google.colab.kernel.accessAllowed ? 'block' : 'none';\n",
              "\n",
              "      async function convertToInteractive(key) {\n",
              "        const element = document.querySelector('#df-b1439c3f-3c0f-4f8f-a0b6-8e8747c32a1b');\n",
              "        const dataTable =\n",
              "          await google.colab.kernel.invokeFunction('convertToInteractive',\n",
              "                                                    [key], {});\n",
              "        if (!dataTable) return;\n",
              "\n",
              "        const docLinkHtml = 'Like what you see? Visit the ' +\n",
              "          '<a target=\"_blank\" href=https://colab.research.google.com/notebooks/data_table.ipynb>data table notebook</a>'\n",
              "          + ' to learn more about interactive tables.';\n",
              "        element.innerHTML = '';\n",
              "        dataTable['output_type'] = 'display_data';\n",
              "        await google.colab.output.renderOutput(dataTable, element);\n",
              "        const docLink = document.createElement('div');\n",
              "        docLink.innerHTML = docLinkHtml;\n",
              "        element.appendChild(docLink);\n",
              "      }\n",
              "    </script>\n",
              "  </div>\n",
              "\n",
              "\n",
              "<div id=\"df-5920056b-c8b9-4c4f-bdc5-141249f14689\">\n",
              "  <button class=\"colab-df-quickchart\" onclick=\"quickchart('df-5920056b-c8b9-4c4f-bdc5-141249f14689')\"\n",
              "            title=\"Suggest charts\"\n",
              "            style=\"display:none;\">\n",
              "\n",
              "<svg xmlns=\"http://www.w3.org/2000/svg\" height=\"24px\"viewBox=\"0 0 24 24\"\n",
              "     width=\"24px\">\n",
              "    <g>\n",
              "        <path d=\"M19 3H5c-1.1 0-2 .9-2 2v14c0 1.1.9 2 2 2h14c1.1 0 2-.9 2-2V5c0-1.1-.9-2-2-2zM9 17H7v-7h2v7zm4 0h-2V7h2v10zm4 0h-2v-4h2v4z\"/>\n",
              "    </g>\n",
              "</svg>\n",
              "  </button>\n",
              "\n",
              "<style>\n",
              "  .colab-df-quickchart {\n",
              "      --bg-color: #E8F0FE;\n",
              "      --fill-color: #1967D2;\n",
              "      --hover-bg-color: #E2EBFA;\n",
              "      --hover-fill-color: #174EA6;\n",
              "      --disabled-fill-color: #AAA;\n",
              "      --disabled-bg-color: #DDD;\n",
              "  }\n",
              "\n",
              "  [theme=dark] .colab-df-quickchart {\n",
              "      --bg-color: #3B4455;\n",
              "      --fill-color: #D2E3FC;\n",
              "      --hover-bg-color: #434B5C;\n",
              "      --hover-fill-color: #FFFFFF;\n",
              "      --disabled-bg-color: #3B4455;\n",
              "      --disabled-fill-color: #666;\n",
              "  }\n",
              "\n",
              "  .colab-df-quickchart {\n",
              "    background-color: var(--bg-color);\n",
              "    border: none;\n",
              "    border-radius: 50%;\n",
              "    cursor: pointer;\n",
              "    display: none;\n",
              "    fill: var(--fill-color);\n",
              "    height: 32px;\n",
              "    padding: 0;\n",
              "    width: 32px;\n",
              "  }\n",
              "\n",
              "  .colab-df-quickchart:hover {\n",
              "    background-color: var(--hover-bg-color);\n",
              "    box-shadow: 0 1px 2px rgba(60, 64, 67, 0.3), 0 1px 3px 1px rgba(60, 64, 67, 0.15);\n",
              "    fill: var(--button-hover-fill-color);\n",
              "  }\n",
              "\n",
              "  .colab-df-quickchart-complete:disabled,\n",
              "  .colab-df-quickchart-complete:disabled:hover {\n",
              "    background-color: var(--disabled-bg-color);\n",
              "    fill: var(--disabled-fill-color);\n",
              "    box-shadow: none;\n",
              "  }\n",
              "\n",
              "  .colab-df-spinner {\n",
              "    border: 2px solid var(--fill-color);\n",
              "    border-color: transparent;\n",
              "    border-bottom-color: var(--fill-color);\n",
              "    animation:\n",
              "      spin 1s steps(1) infinite;\n",
              "  }\n",
              "\n",
              "  @keyframes spin {\n",
              "    0% {\n",
              "      border-color: transparent;\n",
              "      border-bottom-color: var(--fill-color);\n",
              "      border-left-color: var(--fill-color);\n",
              "    }\n",
              "    20% {\n",
              "      border-color: transparent;\n",
              "      border-left-color: var(--fill-color);\n",
              "      border-top-color: var(--fill-color);\n",
              "    }\n",
              "    30% {\n",
              "      border-color: transparent;\n",
              "      border-left-color: var(--fill-color);\n",
              "      border-top-color: var(--fill-color);\n",
              "      border-right-color: var(--fill-color);\n",
              "    }\n",
              "    40% {\n",
              "      border-color: transparent;\n",
              "      border-right-color: var(--fill-color);\n",
              "      border-top-color: var(--fill-color);\n",
              "    }\n",
              "    60% {\n",
              "      border-color: transparent;\n",
              "      border-right-color: var(--fill-color);\n",
              "    }\n",
              "    80% {\n",
              "      border-color: transparent;\n",
              "      border-right-color: var(--fill-color);\n",
              "      border-bottom-color: var(--fill-color);\n",
              "    }\n",
              "    90% {\n",
              "      border-color: transparent;\n",
              "      border-bottom-color: var(--fill-color);\n",
              "    }\n",
              "  }\n",
              "</style>\n",
              "\n",
              "  <script>\n",
              "    async function quickchart(key) {\n",
              "      const quickchartButtonEl =\n",
              "        document.querySelector('#' + key + ' button');\n",
              "      quickchartButtonEl.disabled = true;  // To prevent multiple clicks.\n",
              "      quickchartButtonEl.classList.add('colab-df-spinner');\n",
              "      try {\n",
              "        const charts = await google.colab.kernel.invokeFunction(\n",
              "            'suggestCharts', [key], {});\n",
              "      } catch (error) {\n",
              "        console.error('Error during call to suggestCharts:', error);\n",
              "      }\n",
              "      quickchartButtonEl.classList.remove('colab-df-spinner');\n",
              "      quickchartButtonEl.classList.add('colab-df-quickchart-complete');\n",
              "    }\n",
              "    (() => {\n",
              "      let quickchartButtonEl =\n",
              "        document.querySelector('#df-5920056b-c8b9-4c4f-bdc5-141249f14689 button');\n",
              "      quickchartButtonEl.style.display =\n",
              "        google.colab.kernel.accessAllowed ? 'block' : 'none';\n",
              "    })();\n",
              "  </script>\n",
              "</div>\n",
              "\n",
              "    </div>\n",
              "  </div>\n"
            ],
            "application/vnd.google.colaboratory.intrinsic+json": {
              "type": "dataframe",
              "variable_name": "df",
              "summary": "{\n  \"name\": \"df\",\n  \"rows\": 8014,\n  \"fields\": [\n    {\n      \"column\": \"NR-AR\",\n      \"properties\": {\n        \"dtype\": \"number\",\n        \"std\": 0.19985259322746818,\n        \"min\": 0.0,\n        \"max\": 1.0,\n        \"num_unique_values\": 2,\n        \"samples\": [\n          1.0,\n          0.0\n        ],\n        \"semantic_type\": \"\",\n        \"description\": \"\"\n      }\n    },\n    {\n      \"column\": \"NR-AR-LBD\",\n      \"properties\": {\n        \"dtype\": \"number\",\n        \"std\": 0.182478827410255,\n        \"min\": 0.0,\n        \"max\": 1.0,\n        \"num_unique_values\": 2,\n        \"samples\": [\n          1.0,\n          0.0\n        ],\n        \"semantic_type\": \"\",\n        \"description\": \"\"\n      }\n    },\n    {\n      \"column\": \"NR-AhR\",\n      \"properties\": {\n        \"dtype\": \"number\",\n        \"std\": 0.3218273697758186,\n        \"min\": 0.0,\n        \"max\": 1.0,\n        \"num_unique_values\": 2,\n        \"samples\": [\n          0.0,\n          1.0\n        ],\n        \"semantic_type\": \"\",\n        \"description\": \"\"\n      }\n    },\n    {\n      \"column\": \"NR-Aromatase\",\n      \"properties\": {\n        \"dtype\": \"number\",\n        \"std\": 0.22140589413661974,\n        \"min\": 0.0,\n        \"max\": 1.0,\n        \"num_unique_values\": 2,\n        \"samples\": [\n          1.0,\n          0.0\n        ],\n        \"semantic_type\": \"\",\n        \"description\": \"\"\n      }\n    },\n    {\n      \"column\": \"NR-ER\",\n      \"properties\": {\n        \"dtype\": \"number\",\n        \"std\": 0.33226496900449254,\n        \"min\": 0.0,\n        \"max\": 1.0,\n        \"num_unique_values\": 2,\n        \"samples\": [\n          1.0,\n          0.0\n        ],\n        \"semantic_type\": \"\",\n        \"description\": \"\"\n      }\n    },\n    {\n      \"column\": \"NR-ER-LBD\",\n      \"properties\": {\n        \"dtype\": \"number\",\n        \"std\": 0.21807636831894542,\n        \"min\": 0.0,\n        \"max\": 1.0,\n        \"num_unique_values\": 2,\n        \"samples\": [\n          1.0,\n          0.0\n        ],\n        \"semantic_type\": \"\",\n        \"description\": \"\"\n      }\n    },\n    {\n      \"column\": \"NR-PPAR-gamma\",\n      \"properties\": {\n        \"dtype\": \"number\",\n        \"std\": 0.16700379936327694,\n        \"min\": 0.0,\n        \"max\": 1.0,\n        \"num_unique_values\": 2,\n        \"samples\": [\n          1.0,\n          0.0\n        ],\n        \"semantic_type\": \"\",\n        \"description\": \"\"\n      }\n    },\n    {\n      \"column\": \"SR-ARE\",\n      \"properties\": {\n        \"dtype\": \"number\",\n        \"std\": 0.3684091870234142,\n        \"min\": 0.0,\n        \"max\": 1.0,\n        \"num_unique_values\": 2,\n        \"samples\": [\n          0.0,\n          1.0\n        ],\n        \"semantic_type\": \"\",\n        \"description\": \"\"\n      }\n    },\n    {\n      \"column\": \"SR-ATAD5\",\n      \"properties\": {\n        \"dtype\": \"number\",\n        \"std\": 0.18857660014599062,\n        \"min\": 0.0,\n        \"max\": 1.0,\n        \"num_unique_values\": 2,\n        \"samples\": [\n          1.0,\n          0.0\n        ],\n        \"semantic_type\": \"\",\n        \"description\": \"\"\n      }\n    },\n    {\n      \"column\": \"SR-HSE\",\n      \"properties\": {\n        \"dtype\": \"number\",\n        \"std\": 0.23276847548936688,\n        \"min\": 0.0,\n        \"max\": 1.0,\n        \"num_unique_values\": 2,\n        \"samples\": [\n          1.0,\n          0.0\n        ],\n        \"semantic_type\": \"\",\n        \"description\": \"\"\n      }\n    },\n    {\n      \"column\": \"SR-MMP\",\n      \"properties\": {\n        \"dtype\": \"number\",\n        \"std\": 0.36487315993854386,\n        \"min\": 0.0,\n        \"max\": 1.0,\n        \"num_unique_values\": 2,\n        \"samples\": [\n          1.0,\n          0.0\n        ],\n        \"semantic_type\": \"\",\n        \"description\": \"\"\n      }\n    },\n    {\n      \"column\": \"SR-p53\",\n      \"properties\": {\n        \"dtype\": \"number\",\n        \"std\": 0.24186629174682742,\n        \"min\": 0.0,\n        \"max\": 1.0,\n        \"num_unique_values\": 2,\n        \"samples\": [\n          1.0,\n          0.0\n        ],\n        \"semantic_type\": \"\",\n        \"description\": \"\"\n      }\n    },\n    {\n      \"column\": \"mol_id\",\n      \"properties\": {\n        \"dtype\": \"string\",\n        \"num_unique_values\": 8014,\n        \"samples\": [\n          \"TOX14929\",\n          \"TOX25889\"\n        ],\n        \"semantic_type\": \"\",\n        \"description\": \"\"\n      }\n    },\n    {\n      \"column\": \"smiles\",\n      \"properties\": {\n        \"dtype\": \"string\",\n        \"num_unique_values\": 7831,\n        \"samples\": [\n          \"NCC(=O)O\",\n          \"C=CC(=O)OCCCCCCCC\"\n        ],\n        \"semantic_type\": \"\",\n        \"description\": \"\"\n      }\n    }\n  ]\n}"
            }
          },
          "metadata": {},
          "execution_count": 1
        }
      ],
      "source": [
        "! git clone https://github.com/dsogden/Molecular_Embedings.git\n",
        "\n",
        "import pandas as pd\n",
        "import numpy as np\n",
        "import torch\n",
        "from torch import nn\n",
        "import torch.nn.functional as F\n",
        "from torch.utils.data import Dataset, DataLoader\n",
        "import matplotlib.pyplot as plt\n",
        "import math\n",
        "\n",
        "device = torch.device(\"cuda:0\" if torch.cuda.is_available() else \"cpu\")\n",
        "print(device)\n",
        "def read_file(path: str) -> pd.DataFrame:\n",
        "    return pd.read_csv(path)\n",
        "\n",
        "path = '/content/Molecular_Embedings/tox21.csv'\n",
        "df = read_file(path)\n",
        "df.head(5)"
      ]
    },
    {
      "cell_type": "code",
      "source": [
        "def build_vocab(smiles: np.ndarray) -> list:\n",
        "    vocab = set(char for smile in smiles for char in smile)\n",
        "    return sorted(list(vocab))\n",
        "\n",
        "def get_length(smiles: np.ndarray) -> int:\n",
        "    return max(len(smile) for smile in smiles)\n",
        "\n",
        "def vectorize(smiles: np.ndarray, vocab: list, max_length: int) -> tuple:\n",
        "    N = smiles.shape[0]\n",
        "    vectors = np.zeros((N, max_length + 2), dtype=np.int32)\n",
        "    encoder = {char: idx + 3 for idx, char in enumerate(vocab)}\n",
        "    encoder['<SOS>'] = 0\n",
        "    encoder['<EOS>'] = 1\n",
        "    encoder['<PAD>'] = 2\n",
        "    decoder = {idx: char for char, idx in encoder.items()}\n",
        "    for i, smile in enumerate(smiles):\n",
        "        vectors[i, 0] = encoder['<SOS>']\n",
        "        for j, char in enumerate(smile):\n",
        "            vectors[i, j + 1] = encoder[char]\n",
        "        vectors[i, j + 2] = encoder['<EOS>']\n",
        "        vectors[i, j + 3:] = encoder['<PAD>']\n",
        "    return vectors, encoder, decoder\n",
        "\n",
        "vocab = build_vocab(df.smiles.values)\n",
        "max_length = get_length(df.smiles.values)\n",
        "vectors, encoder, decoder = vectorize(df.smiles, vocab, max_length)"
      ],
      "metadata": {
        "id": "ojSz3y7MzT7u"
      },
      "execution_count": null,
      "outputs": []
    },
    {
      "cell_type": "code",
      "source": [
        "reversed = np.zeros_like(vectors)\n",
        "for idx, vector in enumerate(vectors):\n",
        "    length = vector[vector > 0].shape[0]\n",
        "    reversed[idx, :length] = vector[vector > 0][::-1]"
      ],
      "metadata": {
        "id": "N3y-eJIrzZS8"
      },
      "execution_count": null,
      "outputs": []
    },
    {
      "cell_type": "code",
      "source": [
        "class Embedding(nn.Module):\n",
        "    def __init__(self, num_embeddings: int, embedding_size: int):\n",
        "        super().__init__()\n",
        "        self.embedding = nn.Embedding(num_embeddings, embedding_size)\n",
        "        self.dropout = nn.Dropout(0.1)\n",
        "\n",
        "    def forward(self, inputs):\n",
        "        return self.dropout(self.embedding(inputs))\n",
        "\n",
        "class PositionalEncoding(nn.Module):\n",
        "    def __init__(self, input_dim: int, embedding_dim: int):\n",
        "        super().__init__()\n",
        "        self.dropout = nn.Dropout(0.1)\n",
        "        span = torch.arange(input_dim).unsqueeze(1)\n",
        "        self.pos = torch.zeros(\n",
        "            (input_dim, embedding_dim), requires_grad=False\n",
        "        ).to(device)\n",
        "        x = torch.arange(embedding_dim // 2).float()\n",
        "        div_term = torch.exp(x * (-math.log(10000) / embedding_dim))\n",
        "        self.pos[:, 0::2] = torch.sin(span * div_term)\n",
        "        self.pos[:, 1::2] = torch.cos(span * div_term)\n",
        "        self.register_buffer('pe', self.pos)\n",
        "\n",
        "    def forward(self, inputs):\n",
        "        return self.dropout(inputs + self.pos)"
      ],
      "metadata": {
        "id": "VvTGT646zcOr"
      },
      "execution_count": null,
      "outputs": []
    },
    {
      "cell_type": "code",
      "source": [
        "class Encoder(nn.Module):\n",
        "    def __init__(\n",
        "            self, num_embeddings: int, embedding_size: int, max_length: int\n",
        "        ):\n",
        "        super().__init__()\n",
        "        self.embedding = Embedding(num_embeddings, embedding_size)\n",
        "        self.positional_encoding = PositionalEncoding(\n",
        "            max_length, embedding_size\n",
        "        )\n",
        "        self.encoder = nn.GRU(\n",
        "            embedding_size, embedding_size, batch_first=True\n",
        "        )\n",
        "        self.dropout = nn.Dropout(0.1)\n",
        "\n",
        "    def forward(self, inputs):\n",
        "        embedding = self.embedding(inputs)\n",
        "        encoded = self.positional_encoding(embedding)\n",
        "        rnn, hidden = self.encoder(encoded)\n",
        "        return self.dropout(rnn), hidden\n",
        "\n",
        "class BahdanauAttention(nn.Module):\n",
        "    def __init__(self, hidden_size: int):\n",
        "        super(BahdanauAttention, self).__init__()\n",
        "        self.Wa = nn.Linear(hidden_size, hidden_size)\n",
        "        self.Ua = nn.Linear(hidden_size, hidden_size)\n",
        "        self.Va = nn.Linear(hidden_size, 1)\n",
        "\n",
        "    def forward(self, query, keys):\n",
        "        scores = self.Va(torch.tanh(self.Wa(query) + self.Ua(keys)))\n",
        "        scores = scores.permute(0, 2, 1)\n",
        "        weights = F.softmax(scores, dim=-1)\n",
        "        context = torch.bmm(weights, keys)\n",
        "        return context\n",
        "\n",
        "class Decoder(nn.Module):\n",
        "    def __init__(\n",
        "            self, num_embeddings: int, embedding_size: int, max_length: int,\n",
        "            output_size: int\n",
        "        ):\n",
        "        super().__init__()\n",
        "        self.embedding = Embedding(num_embeddings, embedding_size)\n",
        "        self.positional_encoding = PositionalEncoding(\n",
        "            max_length, embedding_size\n",
        "        )\n",
        "        self.attention = BahdanauAttention(embedding_size)\n",
        "        self.decoder = nn.GRU(\n",
        "            embedding_size, embedding_size, batch_first=True\n",
        "        )\n",
        "        self.fc = nn.Linear(embedding_size, output_size)\n",
        "\n",
        "    def forward(self, inputs, hidden):\n",
        "        embedding = self.embedding(inputs)\n",
        "        encoded = self.positional_encoding(embedding)\n",
        "        query = hidden.permute(1, 0, 2)\n",
        "        context = self.attention(query, encoded)\n",
        "        rnn, _ = self.decoder(encoded + context, hidden)\n",
        "        output = F.log_softmax(self.fc(rnn), dim=-1)\n",
        "        B, T, C = output.shape\n",
        "        return output.view(B * T, C)\n",
        "\n",
        "class Seq2Seq(nn.Module):\n",
        "    def __init__(self, encoder, decoder):\n",
        "        super().__init__()\n",
        "        self.encoder = encoder\n",
        "        self.decoder = decoder\n",
        "\n",
        "    def forward(self, e_inputs, d_inputs):\n",
        "        rnn, hidden = self.encoder(e_inputs)\n",
        "        output = self.decoder(d_inputs, hidden)\n",
        "        return output"
      ],
      "metadata": {
        "id": "E-x1jZo7-1Ex"
      },
      "execution_count": null,
      "outputs": []
    },
    {
      "cell_type": "code",
      "source": [
        "# split data\n",
        "from sklearn.model_selection import train_test_split\n",
        "\n",
        "X_train, X_valid, y_train, y_valid = train_test_split(\n",
        "    vectors, reversed, test_size=0.2, random_state=42\n",
        ")\n",
        "\n",
        "X_train = torch.tensor(X_train, dtype=torch.long).to(device)\n",
        "y_train = torch.tensor(y_train, dtype=torch.long).to(device)\n",
        "X_valid = torch.tensor(X_valid, dtype=torch.long).to(device)\n",
        "y_valid = torch.tensor(y_valid, dtype=torch.long).to(device)\n",
        "\n",
        "train_dataset = torch.utils.data.TensorDataset(X_train, y_train)\n",
        "valid_dataset = torch.utils.data.TensorDataset(X_valid, y_valid)\n",
        "\n",
        "train_dataloader = DataLoader(train_dataset, batch_size=64, shuffle=True)\n",
        "valid_dataloader = DataLoader(valid_dataset, batch_size=64, shuffle=False)"
      ],
      "metadata": {
        "id": "3Jt4I2QYFXgY"
      },
      "execution_count": null,
      "outputs": []
    },
    {
      "cell_type": "code",
      "source": [
        "from tqdm import tqdm\n",
        "\n",
        "num_embeddings = len(encoder)\n",
        "embedding_dim = 512\n",
        "max_length = vectors.shape[-1]\n",
        "output_dim = len(encoder)\n",
        "epochs = 50\n",
        "\n",
        "enc = Encoder(num_embeddings, embedding_dim, max_length).to(device)\n",
        "dec = Decoder(num_embeddings, embedding_dim, max_length, output_dim).to(device)\n",
        "model = Seq2Seq(enc, dec).to(device)\n",
        "\n",
        "optimizer = torch.optim.Adam(model.parameters(), lr=3e-4)\n",
        "criterion = nn.NLLLoss()\n",
        "\n",
        "losses = np.zeros((epochs, 2))\n",
        "\n",
        "for epoch in tqdm(range(epochs)):\n",
        "    training_loss = 0\n",
        "    model.train()\n",
        "    for x, y in train_dataloader:\n",
        "        optimizer.zero_grad()\n",
        "        output = model(x, y)\n",
        "        B, T = y.shape\n",
        "        loss = criterion(output, y.view(B * T))\n",
        "        loss.backward()\n",
        "        optimizer.step()\n",
        "        training_loss += loss.item()\n",
        "\n",
        "    valid_loss = 0\n",
        "    model.eval()\n",
        "    for x, y in valid_dataloader:\n",
        "        output = model(x, y)\n",
        "        B, T = y.shape\n",
        "        loss = criterion(output, y.view(B * T))\n",
        "        valid_loss += loss.item()\n",
        "\n",
        "    training_loss /= len(train_dataloader)\n",
        "    valid_loss /= len(valid_dataloader)\n",
        "    losses[epoch] = training_loss, valid_loss\n",
        "\n",
        "    print(f'\\nTraining Loss: {training_loss} Validation Loss: {valid_loss}\\n')"
      ],
      "metadata": {
        "colab": {
          "base_uri": "https://localhost:8080/"
        },
        "id": "_Kha8gVKKoik",
        "outputId": "ee974015-b4a1-48bb-de80-84212c6b6e01"
      },
      "execution_count": null,
      "outputs": [
        {
          "output_type": "stream",
          "name": "stderr",
          "text": [
            "  2%|▏         | 1/50 [00:18<14:58, 18.34s/it]"
          ]
        },
        {
          "output_type": "stream",
          "name": "stdout",
          "text": [
            "\n",
            "Training Loss: 0.2401314428131474 Validation Loss: 0.02605019359347912\n",
            "\n"
          ]
        },
        {
          "output_type": "stream",
          "name": "stderr",
          "text": [
            "\r  4%|▍         | 2/50 [00:36<14:42, 18.39s/it]"
          ]
        },
        {
          "output_type": "stream",
          "name": "stdout",
          "text": [
            "\n",
            "Training Loss: 0.01614842906889349 Validation Loss: 0.0084645627782895\n",
            "\n"
          ]
        },
        {
          "output_type": "stream",
          "name": "stderr",
          "text": [
            "\r  6%|▌         | 3/50 [00:55<14:30, 18.51s/it]"
          ]
        },
        {
          "output_type": "stream",
          "name": "stdout",
          "text": [
            "\n",
            "Training Loss: 0.006871496792882681 Validation Loss: 0.004286958773333866\n",
            "\n"
          ]
        },
        {
          "output_type": "stream",
          "name": "stderr",
          "text": [
            "\r  8%|▊         | 4/50 [01:14<14:16, 18.61s/it]"
          ]
        },
        {
          "output_type": "stream",
          "name": "stdout",
          "text": [
            "\n",
            "Training Loss: 0.0038213525290167567 Validation Loss: 0.0024469720710140583\n",
            "\n"
          ]
        },
        {
          "output_type": "stream",
          "name": "stderr",
          "text": [
            "\r 10%|█         | 5/50 [01:33<14:01, 18.70s/it]"
          ]
        },
        {
          "output_type": "stream",
          "name": "stdout",
          "text": [
            "\n",
            "Training Loss: 0.002395632404760264 Validation Loss: 0.0015913043327880306\n",
            "\n"
          ]
        },
        {
          "output_type": "stream",
          "name": "stderr",
          "text": [
            "\r 12%|█▏        | 6/50 [01:51<13:46, 18.78s/it]"
          ]
        },
        {
          "output_type": "stream",
          "name": "stdout",
          "text": [
            "\n",
            "Training Loss: 0.0016654888692422595 Validation Loss: 0.0011500657397286536\n",
            "\n"
          ]
        },
        {
          "output_type": "stream",
          "name": "stderr",
          "text": [
            "\r 14%|█▍        | 7/50 [02:11<13:31, 18.87s/it]"
          ]
        },
        {
          "output_type": "stream",
          "name": "stdout",
          "text": [
            "\n",
            "Training Loss: 0.0012620225788490607 Validation Loss: 0.0008954786182864784\n",
            "\n"
          ]
        },
        {
          "output_type": "stream",
          "name": "stderr",
          "text": [
            "\r 16%|█▌        | 8/50 [02:30<13:16, 18.95s/it]"
          ]
        },
        {
          "output_type": "stream",
          "name": "stdout",
          "text": [
            "\n",
            "Training Loss: 0.0010062809468772593 Validation Loss: 0.0007283651749066149\n",
            "\n"
          ]
        },
        {
          "output_type": "stream",
          "name": "stderr",
          "text": [
            "\r 18%|█▊        | 9/50 [02:49<13:00, 19.04s/it]"
          ]
        },
        {
          "output_type": "stream",
          "name": "stdout",
          "text": [
            "\n",
            "Training Loss: 0.0008256959848193507 Validation Loss: 0.0006111048681374926\n",
            "\n"
          ]
        },
        {
          "output_type": "stream",
          "name": "stderr",
          "text": [
            "\r 20%|██        | 10/50 [03:08<12:44, 19.12s/it]"
          ]
        },
        {
          "output_type": "stream",
          "name": "stdout",
          "text": [
            "\n",
            "Training Loss: 0.0007104863496820009 Validation Loss: 0.0005212232533197564\n",
            "\n"
          ]
        },
        {
          "output_type": "stream",
          "name": "stderr",
          "text": [
            "\r 22%|██▏       | 11/50 [03:28<12:28, 19.19s/it]"
          ]
        },
        {
          "output_type": "stream",
          "name": "stdout",
          "text": [
            "\n",
            "Training Loss: 0.0005934189244042068 Validation Loss: 0.0004531678932835348\n",
            "\n"
          ]
        },
        {
          "output_type": "stream",
          "name": "stderr",
          "text": [
            "\r 24%|██▍       | 12/50 [03:47<12:10, 19.23s/it]"
          ]
        },
        {
          "output_type": "stream",
          "name": "stdout",
          "text": [
            "\n",
            "Training Loss: 0.0005132909230242419 Validation Loss: 0.00039607069685679074\n",
            "\n"
          ]
        },
        {
          "output_type": "stream",
          "name": "stderr",
          "text": [
            "\r 26%|██▌       | 13/50 [04:06<11:53, 19.28s/it]"
          ]
        },
        {
          "output_type": "stream",
          "name": "stdout",
          "text": [
            "\n",
            "Training Loss: 0.0004500981250554231 Validation Loss: 0.00034950464704217244\n",
            "\n"
          ]
        },
        {
          "output_type": "stream",
          "name": "stderr",
          "text": [
            "\r 28%|██▊       | 14/50 [04:26<11:35, 19.33s/it]"
          ]
        },
        {
          "output_type": "stream",
          "name": "stdout",
          "text": [
            "\n",
            "Training Loss: 0.0004135753940975312 Validation Loss: 0.00031109879609385435\n",
            "\n"
          ]
        },
        {
          "output_type": "stream",
          "name": "stderr",
          "text": [
            "\r 30%|███       | 15/50 [04:45<11:19, 19.41s/it]"
          ]
        },
        {
          "output_type": "stream",
          "name": "stdout",
          "text": [
            "\n",
            "Training Loss: 0.00034669522768910054 Validation Loss: 0.00027603699457428703\n",
            "\n"
          ]
        },
        {
          "output_type": "stream",
          "name": "stderr",
          "text": [
            "\r 32%|███▏      | 16/50 [05:05<11:01, 19.45s/it]"
          ]
        },
        {
          "output_type": "stream",
          "name": "stdout",
          "text": [
            "\n",
            "Training Loss: 0.0003088646576138176 Validation Loss: 0.0002473729101229065\n",
            "\n"
          ]
        },
        {
          "output_type": "stream",
          "name": "stderr",
          "text": [
            "\r 34%|███▍      | 17/50 [05:24<10:43, 19.49s/it]"
          ]
        },
        {
          "output_type": "stream",
          "name": "stdout",
          "text": [
            "\n",
            "Training Loss: 0.0002792271703889704 Validation Loss: 0.0002226874371095059\n",
            "\n"
          ]
        },
        {
          "output_type": "stream",
          "name": "stderr",
          "text": [
            "\r 36%|███▌      | 18/50 [05:44<10:24, 19.51s/it]"
          ]
        },
        {
          "output_type": "stream",
          "name": "stdout",
          "text": [
            "\n",
            "Training Loss: 0.0002465844265298254 Validation Loss: 0.0002012422631266348\n",
            "\n"
          ]
        },
        {
          "output_type": "stream",
          "name": "stderr",
          "text": [
            "\r 38%|███▊      | 19/50 [06:04<10:05, 19.53s/it]"
          ]
        },
        {
          "output_type": "stream",
          "name": "stdout",
          "text": [
            "\n",
            "Training Loss: 0.00022128494743126363 Validation Loss: 0.00018239377347456937\n",
            "\n"
          ]
        },
        {
          "output_type": "stream",
          "name": "stderr",
          "text": [
            "\r 40%|████      | 20/50 [06:23<09:46, 19.55s/it]"
          ]
        },
        {
          "output_type": "stream",
          "name": "stdout",
          "text": [
            "\n",
            "Training Loss: 0.00020117262753803229 Validation Loss: 0.00016574128704423158\n",
            "\n"
          ]
        },
        {
          "output_type": "stream",
          "name": "stderr",
          "text": [
            "\r 42%|████▏     | 21/50 [06:43<09:27, 19.57s/it]"
          ]
        },
        {
          "output_type": "stream",
          "name": "stdout",
          "text": [
            "\n",
            "Training Loss: 0.00018179036505718596 Validation Loss: 0.00015150774505365497\n",
            "\n"
          ]
        },
        {
          "output_type": "stream",
          "name": "stderr",
          "text": [
            "\r 44%|████▍     | 22/50 [07:02<09:08, 19.59s/it]"
          ]
        },
        {
          "output_type": "stream",
          "name": "stdout",
          "text": [
            "\n",
            "Training Loss: 0.00016454607759784482 Validation Loss: 0.00013805780900628844\n",
            "\n"
          ]
        },
        {
          "output_type": "stream",
          "name": "stderr",
          "text": [
            "\r 46%|████▌     | 23/50 [07:22<08:49, 19.60s/it]"
          ]
        },
        {
          "output_type": "stream",
          "name": "stdout",
          "text": [
            "\n",
            "Training Loss: 0.00015056612669423424 Validation Loss: 0.00012636559362223264\n",
            "\n"
          ]
        },
        {
          "output_type": "stream",
          "name": "stderr",
          "text": [
            "\r 48%|████▊     | 24/50 [07:42<08:29, 19.61s/it]"
          ]
        },
        {
          "output_type": "stream",
          "name": "stdout",
          "text": [
            "\n",
            "Training Loss: 0.00013689841699209018 Validation Loss: 0.00011653997129402481\n",
            "\n"
          ]
        },
        {
          "output_type": "stream",
          "name": "stderr",
          "text": [
            "\r 50%|█████     | 25/50 [08:01<08:10, 19.62s/it]"
          ]
        },
        {
          "output_type": "stream",
          "name": "stdout",
          "text": [
            "\n",
            "Training Loss: 0.00012530020730181524 Validation Loss: 0.00010745787249806408\n",
            "\n"
          ]
        },
        {
          "output_type": "stream",
          "name": "stderr",
          "text": [
            "\r 52%|█████▏    | 26/50 [08:21<07:50, 19.62s/it]"
          ]
        },
        {
          "output_type": "stream",
          "name": "stdout",
          "text": [
            "\n",
            "Training Loss: 0.00011535914767375631 Validation Loss: 9.875232073961972e-05\n",
            "\n"
          ]
        },
        {
          "output_type": "stream",
          "name": "stderr",
          "text": [
            "\r 54%|█████▍    | 27/50 [08:41<07:31, 19.64s/it]"
          ]
        },
        {
          "output_type": "stream",
          "name": "stdout",
          "text": [
            "\n",
            "Training Loss: 0.00010396637273767944 Validation Loss: 9.182449796823606e-05\n",
            "\n"
          ]
        },
        {
          "output_type": "stream",
          "name": "stderr",
          "text": [
            "\r 56%|█████▌    | 28/50 [09:00<07:12, 19.64s/it]"
          ]
        },
        {
          "output_type": "stream",
          "name": "stdout",
          "text": [
            "\n",
            "Training Loss: 9.667159827243962e-05 Validation Loss: 8.542488859138057e-05\n",
            "\n"
          ]
        },
        {
          "output_type": "stream",
          "name": "stderr",
          "text": [
            "\r 58%|█████▊    | 29/50 [09:20<06:52, 19.65s/it]"
          ]
        },
        {
          "output_type": "stream",
          "name": "stdout",
          "text": [
            "\n",
            "Training Loss: 8.822451537967161e-05 Validation Loss: 7.959334981513585e-05\n",
            "\n"
          ]
        },
        {
          "output_type": "stream",
          "name": "stderr",
          "text": [
            "\r 60%|██████    | 30/50 [09:40<06:33, 19.68s/it]"
          ]
        },
        {
          "output_type": "stream",
          "name": "stdout",
          "text": [
            "\n",
            "Training Loss: 8.111395299697461e-05 Validation Loss: 7.413723471052854e-05\n",
            "\n"
          ]
        },
        {
          "output_type": "stream",
          "name": "stderr",
          "text": [
            "\r 62%|██████▏   | 31/50 [09:59<06:14, 19.70s/it]"
          ]
        },
        {
          "output_type": "stream",
          "name": "stdout",
          "text": [
            "\n",
            "Training Loss: 7.478954870352351e-05 Validation Loss: 6.953652833684688e-05\n",
            "\n"
          ]
        },
        {
          "output_type": "stream",
          "name": "stderr",
          "text": [
            "\r 64%|██████▍   | 32/50 [10:19<05:54, 19.68s/it]"
          ]
        },
        {
          "output_type": "stream",
          "name": "stdout",
          "text": [
            "\n",
            "Training Loss: 6.891414850902983e-05 Validation Loss: 6.525808336076667e-05\n",
            "\n"
          ]
        },
        {
          "output_type": "stream",
          "name": "stderr",
          "text": [
            "\r 66%|██████▌   | 33/50 [10:39<05:34, 19.69s/it]"
          ]
        },
        {
          "output_type": "stream",
          "name": "stdout",
          "text": [
            "\n",
            "Training Loss: 6.286926536361507e-05 Validation Loss: 6.128388367170164e-05\n",
            "\n"
          ]
        },
        {
          "output_type": "stream",
          "name": "stderr",
          "text": [
            "\r 68%|██████▊   | 34/50 [10:59<05:15, 19.71s/it]"
          ]
        },
        {
          "output_type": "stream",
          "name": "stdout",
          "text": [
            "\n",
            "Training Loss: 5.895961978672174e-05 Validation Loss: 5.781436755989069e-05\n",
            "\n"
          ]
        },
        {
          "output_type": "stream",
          "name": "stderr",
          "text": [
            "\r 70%|███████   | 35/50 [11:18<04:55, 19.72s/it]"
          ]
        },
        {
          "output_type": "stream",
          "name": "stdout",
          "text": [
            "\n",
            "Training Loss: 5.3552524861677935e-05 Validation Loss: 5.468138736502554e-05\n",
            "\n"
          ]
        },
        {
          "output_type": "stream",
          "name": "stderr",
          "text": [
            "\r 72%|███████▏  | 36/50 [11:38<04:35, 19.69s/it]"
          ]
        },
        {
          "output_type": "stream",
          "name": "stdout",
          "text": [
            "\n",
            "Training Loss: 4.9647817048584206e-05 Validation Loss: 5.1470421287656514e-05\n",
            "\n"
          ]
        },
        {
          "output_type": "stream",
          "name": "stderr",
          "text": [
            "\r 74%|███████▍  | 37/50 [11:58<04:15, 19.68s/it]"
          ]
        },
        {
          "output_type": "stream",
          "name": "stdout",
          "text": [
            "\n",
            "Training Loss: 4.640693283129234e-05 Validation Loss: 4.8988462367560714e-05\n",
            "\n"
          ]
        },
        {
          "output_type": "stream",
          "name": "stderr",
          "text": [
            "\r 76%|███████▌  | 38/50 [12:17<03:56, 19.68s/it]"
          ]
        },
        {
          "output_type": "stream",
          "name": "stdout",
          "text": [
            "\n",
            "Training Loss: 4.2175391253394004e-05 Validation Loss: 4.633066177680471e-05\n",
            "\n"
          ]
        },
        {
          "output_type": "stream",
          "name": "stderr",
          "text": [
            "\r 78%|███████▊  | 39/50 [12:37<03:36, 19.69s/it]"
          ]
        },
        {
          "output_type": "stream",
          "name": "stdout",
          "text": [
            "\n",
            "Training Loss: 3.9651173876948874e-05 Validation Loss: 4.399933546805047e-05\n",
            "\n"
          ]
        },
        {
          "output_type": "stream",
          "name": "stderr",
          "text": [
            "\r 80%|████████  | 40/50 [12:57<03:16, 19.69s/it]"
          ]
        },
        {
          "output_type": "stream",
          "name": "stdout",
          "text": [
            "\n",
            "Training Loss: 3.605346571228186e-05 Validation Loss: 4.18492236349266e-05\n",
            "\n"
          ]
        },
        {
          "output_type": "stream",
          "name": "stderr",
          "text": [
            "\r 82%|████████▏ | 41/50 [13:16<02:57, 19.71s/it]"
          ]
        },
        {
          "output_type": "stream",
          "name": "stdout",
          "text": [
            "\n",
            "Training Loss: 3.3908381683972095e-05 Validation Loss: 3.9688173973655255e-05\n",
            "\n"
          ]
        },
        {
          "output_type": "stream",
          "name": "stderr",
          "text": [
            "\r 84%|████████▍ | 42/50 [13:36<02:37, 19.71s/it]"
          ]
        },
        {
          "output_type": "stream",
          "name": "stdout",
          "text": [
            "\n",
            "Training Loss: 3.154866349762928e-05 Validation Loss: 3.783811997401734e-05\n",
            "\n"
          ]
        },
        {
          "output_type": "stream",
          "name": "stderr",
          "text": [
            "\r 86%|████████▌ | 43/50 [13:56<02:17, 19.71s/it]"
          ]
        },
        {
          "output_type": "stream",
          "name": "stdout",
          "text": [
            "\n",
            "Training Loss: 2.9287016142988438e-05 Validation Loss: 3.616717402529992e-05\n",
            "\n"
          ]
        },
        {
          "output_type": "stream",
          "name": "stderr",
          "text": [
            "\r 88%|████████▊ | 44/50 [14:16<01:58, 19.72s/it]"
          ]
        },
        {
          "output_type": "stream",
          "name": "stdout",
          "text": [
            "\n",
            "Training Loss: 2.7652740574904053e-05 Validation Loss: 3.432445660459612e-05\n",
            "\n"
          ]
        },
        {
          "output_type": "stream",
          "name": "stderr",
          "text": [
            "\r 90%|█████████ | 45/50 [14:35<01:38, 19.71s/it]"
          ]
        },
        {
          "output_type": "stream",
          "name": "stdout",
          "text": [
            "\n",
            "Training Loss: 2.543435567702653e-05 Validation Loss: 3.270572229806791e-05\n",
            "\n"
          ]
        },
        {
          "output_type": "stream",
          "name": "stderr",
          "text": [
            "\r 92%|█████████▏| 46/50 [14:55<01:18, 19.70s/it]"
          ]
        },
        {
          "output_type": "stream",
          "name": "stdout",
          "text": [
            "\n",
            "Training Loss: 2.3663544450053198e-05 Validation Loss: 3.1213945581279964e-05\n",
            "\n"
          ]
        },
        {
          "output_type": "stream",
          "name": "stderr",
          "text": [
            "\r 94%|█████████▍| 47/50 [15:15<00:59, 19.74s/it]"
          ]
        },
        {
          "output_type": "stream",
          "name": "stdout",
          "text": [
            "\n",
            "Training Loss: 2.254769050622518e-05 Validation Loss: 2.99513019924164e-05\n",
            "\n"
          ]
        },
        {
          "output_type": "stream",
          "name": "stderr",
          "text": [
            "\r 96%|█████████▌| 48/50 [15:34<00:39, 19.73s/it]"
          ]
        },
        {
          "output_type": "stream",
          "name": "stdout",
          "text": [
            "\n",
            "Training Loss: 2.0530691490241208e-05 Validation Loss: 2.8750557738441366e-05\n",
            "\n"
          ]
        },
        {
          "output_type": "stream",
          "name": "stderr",
          "text": [
            "\r 98%|█████████▊| 49/50 [15:54<00:19, 19.73s/it]"
          ]
        },
        {
          "output_type": "stream",
          "name": "stdout",
          "text": [
            "\n",
            "Training Loss: 1.896988090599131e-05 Validation Loss: 2.757917781519399e-05\n",
            "\n"
          ]
        },
        {
          "output_type": "stream",
          "name": "stderr",
          "text": [
            "100%|██████████| 50/50 [16:14<00:00, 19.49s/it]"
          ]
        },
        {
          "output_type": "stream",
          "name": "stdout",
          "text": [
            "\n",
            "Training Loss: 1.8014020326410162e-05 Validation Loss: 2.6492943491645678e-05\n",
            "\n"
          ]
        },
        {
          "output_type": "stream",
          "name": "stderr",
          "text": [
            "\n"
          ]
        }
      ]
    },
    {
      "cell_type": "code",
      "source": [
        "fig, ax = plt.subplots(figsize=(8, 6))\n",
        "ax.plot(losses[:, 0], label='Training Loss')\n",
        "ax.plot(losses[:, 1], label='Validation Loss')\n",
        "ax.set_xlabel('Epoch')\n",
        "ax.set_ylabel('Loss')\n",
        "ax.legend()\n",
        "plt.show()"
      ],
      "metadata": {
        "colab": {
          "base_uri": "https://localhost:8080/",
          "height": 544
        },
        "id": "ZvIykZh2lUs4",
        "outputId": "914ce030-27ab-4842-9ccc-bc808aaa18f0"
      },
      "execution_count": null,
      "outputs": [
        {
          "output_type": "display_data",
          "data": {
            "text/plain": [
              "<Figure size 800x600 with 1 Axes>"
            ],
            "image/png": "[encoded data removed]"
          },
          "metadata": {}
        }
      ]
    },
    {
      "cell_type": "code",
      "source": [
        "embeddings = model.encoder.embedding.embedding.weight.detach().cpu().numpy()\n",
        "embedding_mapper = {\n",
        "    decoder[idx]: embedding for idx, embedding in enumerate(embeddings)\n",
        "}\n",
        "embedding_mapper.keys()"
      ],
      "metadata": {
        "colab": {
          "base_uri": "https://localhost:8080/"
        },
        "id": "Bq9TPD_6NMCG",
        "outputId": "23aaf20e-c769-4814-b8c4-b87c592611b9"
      },
      "execution_count": null,
      "outputs": [
        {
          "output_type": "execute_result",
          "data": {
            "text/plain": [
              "dict_keys(['<SOS>', '<EOS>', '<PAD>', '#', '(', ')', '+', '-', '.', '/', '1', '2', '3', '4', '5', '6', '7', '8', '9', '=', '@', 'A', 'B', 'C', 'D', 'F', 'G', 'H', 'I', 'K', 'L', 'M', 'N', 'O', 'P', 'S', 'T', 'V', 'Y', 'Z', '[', '\\\\', ']', 'a', 'b', 'c', 'd', 'e', 'g', 'i', 'l', 'n', 'o', 'r', 's', 't', 'u', 'y'])"
            ]
          },
          "metadata": {},
          "execution_count": 24
        }
      ]
    },
    {
      "cell_type": "code",
      "source": [
        "from sklearn.decomposition import PCA\n",
        "\n",
        "pca = PCA(n_components=2)\n",
        "embedding_pca = pca.fit_transform(embeddings)\n",
        "\n",
        "keys = [\n",
        "    'A', 'B', 'C', 'D', 'F',\n",
        "    'G', 'H', 'I', 'K', 'L',\n",
        "    'M', 'N', 'O', 'P', 'S',\n",
        "    'T', 'V', 'Y', 'Z', 'a',\n",
        "    'b', 'c', 'd', 'e', 'g',\n",
        "    'i', 'l', 'n', 'o', 'r',\n",
        "    's', 't', 'u', 'y'\n",
        "]"
      ],
      "metadata": {
        "id": "Am7w5aCphaWk"
      },
      "execution_count": null,
      "outputs": []
    },
    {
      "cell_type": "code",
      "source": [
        "fig, ax = plt.subplots(figsize=(8, 6))\n",
        "for idx, embedding in enumerate(embeddings):\n",
        "    ax.scatter(embedding_pca[idx, 0], embedding_pca[idx, 1])\n",
        "    ax.annotate(\n",
        "        keys[idx],\n",
        "        (embedding_pca[idx, 0] + 0.2, embedding_pca[idx, 1] - 0.1)\n",
        "    )\n",
        "ax.set(\n",
        "    xlim=[-10, 10],\n",
        "    ylim=[-10, 10]\n",
        ")\n",
        "plt.grid(True)\n",
        "plt.show()"
      ],
      "metadata": {
        "colab": {
          "base_uri": "https://localhost:8080/",
          "height": 528
        },
        "id": "kEt7qHibmEXb",
        "outputId": "066b3e9d-c3dc-4b8f-de9a-04b7cc0a8716"
      },
      "execution_count": null,
      "outputs": [
        {
          "output_type": "display_data",
          "data": {
            "text/plain": [
              "<Figure size 800x600 with 1 Axes>"
            ],
            "image/png": "[encoded data removed]"
          },
          "metadata": {}
        }
      ]
    },
    {
      "cell_type": "code",
      "source": [
        "path = '/content/drive/MyDrive/MolecularEmbeddings/model_weights.pth'\n",
        "torch.save(model.state_dict(), path)"
      ],
      "metadata": {
        "id": "zzJ5h4kvmY7q"
      },
      "execution_count": null,
      "outputs": []
    },
    {
      "cell_type": "code",
      "source": [
        "torch.load(path, weights_only=False)"
      ],
      "metadata": {
        "colab": {
          "base_uri": "https://localhost:8080/"
        },
        "id": "g0q6S0vypj8Z",
        "outputId": "4014dd28-34f3-4897-8008-3e2745e94d20"
      },
      "execution_count": null,
      "outputs": [
        {
          "output_type": "execute_result",
          "data": {
            "text/plain": [
              "OrderedDict([('encoder.embedding.embedding.weight',\n",
              "              tensor([[-1.1832,  0.1941, -1.7937,  ..., -0.0384,  0.0132, -0.3539],\n",
              "                      [-1.7930,  1.2816, -1.1092,  ...,  0.0598, -0.2592, -0.2731],\n",
              "                      [ 0.7384,  0.7964, -0.2478,  ...,  1.0042,  0.6775, -1.0293],\n",
              "                      ...,\n",
              "                      [-0.6941, -0.1312,  0.8333,  ...,  0.0235, -0.1194, -0.6499],\n",
              "                      [ 0.9470,  1.0532, -1.3870,  ..., -0.2866,  0.4772,  0.7806],\n",
              "                      [ 1.0564,  1.6610, -1.3804,  ...,  1.4516, -0.2108,  0.8416]],\n",
              "                     device='cuda:0')),\n",
              "             ('encoder.positional_encoding.pe',\n",
              "              tensor([[ 0.0000,  1.0000,  0.0000,  ...,  1.0000,  0.0000,  1.0000],\n",
              "                      [ 0.8415,  0.5403,  0.8317,  ...,  0.9999,  0.0102,  0.9999],\n",
              "                      [ 0.9093, -0.4161,  0.9236,  ...,  0.9998,  0.0204,  0.9998],\n",
              "                      ...,\n",
              "                      [ 0.9906, -0.1368,  0.9424,  ..., -0.9236, -0.3243, -0.9459],\n",
              "                      [ 0.4201, -0.9075,  0.2451,  ..., -0.9196, -0.3339, -0.9426],\n",
              "                      [-0.5366, -0.8438, -0.6702,  ..., -0.9155, -0.3435, -0.9391]],\n",
              "                     device='cuda:0')),\n",
              "             ('encoder.encoder.weight_ih_l0',\n",
              "              tensor([[-0.0238,  0.0276, -0.0107,  ...,  0.0243,  0.0411, -0.0455],\n",
              "                      [ 0.0274, -0.0460, -0.0309,  ...,  0.0194, -0.0088,  0.0094],\n",
              "                      [-0.0157,  0.0092,  0.0230,  ...,  0.0197, -0.0327, -0.0459],\n",
              "                      ...,\n",
              "                      [-0.0159, -0.0267,  0.0300,  ...,  0.0183,  0.0367,  0.0373],\n",
              "                      [-0.0268, -0.0196,  0.0471,  ...,  0.0003, -0.0140, -0.0344],\n",
              "                      [ 0.0125,  0.0169, -0.0468,  ...,  0.0015,  0.0238, -0.0412]],\n",
              "                     device='cuda:0')),\n",
              "             ('encoder.encoder.weight_hh_l0',\n",
              "              tensor([[ 0.0094,  0.0152,  0.0414,  ...,  0.0023, -0.0107,  0.0286],\n",
              "                      [-0.0055, -0.0098, -0.0378,  ..., -0.0222,  0.0421, -0.0394],\n",
              "                      [-0.0030, -0.0196,  0.0213,  ...,  0.0428,  0.0036,  0.0107],\n",
              "                      ...,\n",
              "                      [-0.0178, -0.0377, -0.0163,  ...,  0.0008,  0.0280, -0.0328],\n",
              "                      [-0.0242, -0.0002,  0.0447,  ...,  0.0080, -0.0292, -0.0193],\n",
              "                      [-0.0079,  0.0416, -0.0198,  ...,  0.0024,  0.0016,  0.0090]],\n",
              "                     device='cuda:0')),\n",
              "             ('encoder.encoder.bias_ih_l0',\n",
              "              tensor([ 0.0105,  0.0057, -0.0039,  ...,  0.0159,  0.0373, -0.0135],\n",
              "                     device='cuda:0')),\n",
              "             ('encoder.encoder.bias_hh_l0',\n",
              "              tensor([ 0.0301, -0.0375, -0.0065,  ...,  0.0244, -0.0024,  0.0201],\n",
              "                     device='cuda:0')),\n",
              "             ('decoder.embedding.embedding.weight',\n",
              "              tensor([[ 1.3659, -0.0296,  0.8840,  ..., -1.1882, -1.3115,  0.2690],\n",
              "                      [-1.5201,  0.3806, -0.9746,  ..., -0.5980, -1.2647, -0.0757],\n",
              "                      [ 0.0074,  0.3187,  1.3199,  ..., -1.0081, -1.0203, -1.1013],\n",
              "                      ...,\n",
              "                      [ 0.2330, -1.2896, -0.4850,  ..., -0.6074,  0.5483,  1.0037],\n",
              "                      [-0.8740, -0.2390,  0.4109,  ...,  0.1739, -0.3614,  1.1134],\n",
              "                      [ 1.0702, -2.3956, -0.4965,  ...,  1.7580, -1.0112,  0.2720]],\n",
              "                     device='cuda:0')),\n",
              "             ('decoder.positional_encoding.pe',\n",
              "              tensor([[ 0.0000,  1.0000,  0.0000,  ...,  1.0000,  0.0000,  1.0000],\n",
              "                      [ 0.8415,  0.5403,  0.8317,  ...,  0.9999,  0.0102,  0.9999],\n",
              "                      [ 0.9093, -0.4161,  0.9236,  ...,  0.9998,  0.0204,  0.9998],\n",
              "                      ...,\n",
              "                      [ 0.9906, -0.1368,  0.9424,  ..., -0.9236, -0.3243, -0.9459],\n",
              "                      [ 0.4201, -0.9075,  0.2451,  ..., -0.9196, -0.3339, -0.9426],\n",
              "                      [-0.5366, -0.8438, -0.6702,  ..., -0.9155, -0.3435, -0.9391]],\n",
              "                     device='cuda:0')),\n",
              "             ('decoder.attention.Wa.weight',\n",
              "              tensor([[ 0.0130,  0.0130, -0.0432,  ...,  0.0173,  0.0247,  0.0479],\n",
              "                      [-0.0257, -0.0270, -0.0296,  ...,  0.0027,  0.0072, -0.0138],\n",
              "                      [-0.0266, -0.0203,  0.0301,  ..., -0.0065,  0.0461,  0.0252],\n",
              "                      ...,\n",
              "                      [-0.0237,  0.0499, -0.0068,  ...,  0.0207, -0.0207, -0.0061],\n",
              "                      [-0.0260,  0.0313, -0.0324,  ..., -0.0021, -0.0410, -0.0208],\n",
              "                      [ 0.0164,  0.0146, -0.0173,  ..., -0.0087, -0.0176,  0.0162]],\n",
              "                     device='cuda:0')),\n",
              "             ('decoder.attention.Wa.bias',\n",
              "              tensor([ 1.0615e-02, -3.3007e-02, -1.1655e-02, -9.8187e-03,  2.3870e-02,\n",
              "                       1.9502e-02, -1.3921e-02,  4.5174e-02,  8.5491e-03,  1.0303e-02,\n",
              "                      -1.8641e-02, -1.1573e-02,  2.3239e-03, -4.5230e-02, -3.7544e-02,\n",
              "                      -3.5942e-02,  1.4133e-02,  2.7281e-02,  2.8300e-03,  4.2404e-02,\n",
              "                       4.0521e-02,  2.2729e-02,  4.0603e-03, -1.6412e-03, -1.7839e-02,\n",
              "                      -4.8443e-03, -3.6022e-02, -3.2012e-02, -6.9666e-03, -4.0876e-02,\n",
              "                       2.9784e-02, -3.6310e-02, -2.7229e-02,  4.4212e-03, -1.5888e-02,\n",
              "                      -3.7045e-02,  8.3943e-03,  3.5957e-02,  7.4634e-03,  1.5891e-02,\n",
              "                      -1.2463e-02, -4.2716e-02, -5.0603e-02,  3.9510e-02,  4.8539e-02,\n",
              "                      -3.2086e-02,  1.1588e-02,  3.3914e-02, -1.5093e-02,  3.6661e-02,\n",
              "                      -1.8006e-02, -5.8553e-03,  3.6876e-02,  2.2161e-02,  1.5978e-02,\n",
              "                       2.2334e-02, -4.3639e-02,  1.3085e-02,  5.0260e-03, -2.0767e-02,\n",
              "                      -1.6162e-02,  4.0699e-02, -2.4768e-02,  4.1260e-02,  5.5838e-03,\n",
              "                       2.6356e-02,  3.3204e-02, -2.7993e-02, -1.3132e-02,  1.9578e-02,\n",
              "                      -3.7279e-02,  5.5599e-03, -1.5173e-02,  3.1484e-02, -2.3232e-02,\n",
              "                      -8.8049e-03, -2.6942e-02, -3.7720e-02,  3.8252e-02, -3.2454e-02,\n",
              "                      -2.5148e-02,  3.4837e-03,  3.4040e-02, -3.2503e-02, -4.4884e-02,\n",
              "                      -1.2603e-02,  3.2369e-02, -3.4397e-04, -2.7233e-02, -2.2433e-02,\n",
              "                      -4.3940e-02,  5.5956e-03,  3.6958e-02,  1.7731e-02,  1.2591e-02,\n",
              "                       2.6579e-02,  2.9697e-03, -3.5668e-02, -3.1961e-02,  2.6370e-02,\n",
              "                       2.6498e-03,  3.2167e-02, -2.6980e-02,  4.0727e-02,  8.5823e-03,\n",
              "                       1.5128e-02, -2.1863e-02, -3.5243e-02,  2.5675e-02, -4.0046e-02,\n",
              "                      -2.3393e-02,  2.8662e-02,  2.9139e-02, -9.0021e-03, -8.7264e-03,\n",
              "                      -7.0155e-03, -3.2880e-02, -4.8358e-02, -3.9976e-02,  3.8551e-03,\n",
              "                      -2.6833e-02,  1.5860e-02, -9.3317e-03, -2.9124e-02, -1.6432e-02,\n",
              "                       2.4914e-02, -3.6411e-03,  3.4966e-02,  1.0385e-02, -1.2228e-02,\n",
              "                       7.1641e-04,  1.8124e-02,  1.4109e-02, -1.3336e-02,  3.4267e-02,\n",
              "                      -3.2073e-02, -2.2446e-02,  4.1267e-04, -1.6962e-02, -3.7836e-02,\n",
              "                      -3.9274e-02, -3.1985e-02,  3.4260e-02, -7.3970e-04, -2.1965e-02,\n",
              "                       2.1998e-02,  2.1391e-02, -3.5375e-04, -1.1539e-02, -8.0922e-03,\n",
              "                       2.3954e-02, -8.5559e-03,  3.4505e-02,  1.2577e-02, -1.0222e-02,\n",
              "                       2.8618e-02, -1.2176e-02,  2.4597e-02,  2.4039e-02,  2.7942e-02,\n",
              "                       2.9963e-02, -1.6111e-02, -1.7448e-02,  2.3391e-02,  4.1446e-04,\n",
              "                       1.5819e-03,  6.5295e-03, -3.3092e-03,  1.9367e-02,  4.4751e-02,\n",
              "                      -1.2638e-02, -1.3181e-02, -1.8207e-03, -4.5278e-02,  1.7847e-02,\n",
              "                      -3.0644e-02,  3.3345e-02, -1.8755e-02, -2.2417e-03,  4.3246e-02,\n",
              "                       2.7736e-02,  3.9517e-02,  1.5259e-02, -4.3515e-02, -2.4704e-02,\n",
              "                       1.0833e-02,  2.2454e-02, -3.8777e-02, -4.2797e-02,  3.4298e-02,\n",
              "                      -4.0890e-02, -3.0226e-03, -1.3430e-02,  3.6968e-02,  3.7459e-02,\n",
              "                      -3.5316e-02, -2.0706e-02, -2.3414e-02,  4.3296e-02,  2.0593e-02,\n",
              "                      -3.0413e-03, -2.4485e-02, -4.5565e-02,  4.8617e-02,  4.2011e-02,\n",
              "                       1.6703e-02, -1.8957e-02,  2.3108e-02, -1.3123e-02,  2.9365e-03,\n",
              "                      -3.4145e-02, -1.8665e-02, -2.1680e-02, -2.3793e-02, -4.2342e-02,\n",
              "                      -9.6309e-03,  1.4183e-02,  5.4232e-03,  2.5453e-02, -2.6476e-02,\n",
              "                      -2.8583e-02, -1.7017e-02,  1.5590e-02,  4.0762e-02,  2.9198e-02,\n",
              "                      -3.6088e-02, -4.0140e-03, -1.8238e-02, -3.1159e-02, -2.6085e-02,\n",
              "                       1.5198e-02,  2.8393e-02,  2.3803e-02,  4.2665e-02,  1.1499e-02,\n",
              "                       2.4274e-02,  3.0207e-02, -2.4817e-02, -2.3121e-02, -1.1806e-02,\n",
              "                      -2.8111e-02, -1.5991e-02, -2.8122e-02,  9.2839e-03,  2.6562e-02,\n",
              "                       1.3958e-02, -1.8252e-02, -1.1864e-02,  1.7164e-04,  8.2043e-04,\n",
              "                       1.5955e-02, -2.7618e-02, -4.4039e-03, -3.2887e-02, -2.6625e-03,\n",
              "                      -3.1429e-02, -8.2731e-03,  2.8083e-02, -1.2098e-02,  1.0500e-02,\n",
              "                       4.9357e-02,  9.9506e-03, -1.4986e-02,  4.1602e-02,  1.8626e-02,\n",
              "                       1.9830e-02,  1.4461e-03, -8.6685e-03,  3.7630e-02, -1.7675e-02,\n",
              "                      -3.6502e-02,  1.5584e-02, -1.6230e-02, -2.8900e-02,  2.2718e-02,\n",
              "                       3.2865e-02, -6.7958e-03,  3.0235e-02, -1.3377e-02, -3.8861e-02,\n",
              "                      -2.6915e-02,  2.4943e-02,  5.2200e-03, -1.4636e-02, -2.4449e-02,\n",
              "                       1.9370e-02, -1.9586e-02, -4.5611e-02,  3.0811e-03, -3.9402e-02,\n",
              "                      -4.1844e-02,  1.3782e-02,  6.4528e-03, -2.2311e-02, -2.6850e-02,\n",
              "                       5.7327e-03, -1.0631e-02,  2.7713e-02, -2.0261e-02, -2.0103e-02,\n",
              "                      -4.1846e-03, -3.4034e-02, -3.2415e-02,  1.1603e-03,  1.7917e-02,\n",
              "                      -2.8650e-02,  1.2499e-02,  3.6741e-02,  5.4413e-03,  1.8379e-02,\n",
              "                       5.7164e-05,  4.3492e-02,  2.5079e-02, -2.0061e-02, -1.7948e-02,\n",
              "                       2.7996e-02,  3.1975e-02,  3.1700e-02, -7.3349e-03,  3.7734e-02,\n",
              "                       2.3277e-02,  2.9870e-02, -2.5871e-03,  2.3151e-02, -2.3452e-02,\n",
              "                      -4.5367e-02,  7.9678e-03, -2.5908e-02, -7.2498e-03,  6.3564e-03,\n",
              "                       3.2102e-03, -2.8571e-02, -9.6707e-04, -5.9239e-03, -2.8867e-02,\n",
              "                      -1.7791e-02,  2.8381e-02, -1.0408e-02, -7.7425e-03, -8.5460e-03,\n",
              "                      -1.2347e-02,  4.7417e-02, -4.1823e-02, -3.1146e-03,  1.8489e-02,\n",
              "                       1.4921e-03, -3.7707e-03, -3.1787e-02, -3.9829e-02, -1.4071e-02,\n",
              "                       6.1741e-03,  1.7742e-02,  2.8231e-02, -1.2789e-02,  4.3808e-03,\n",
              "                      -6.5971e-03,  2.9648e-02, -3.4464e-02, -2.7104e-02,  4.6687e-03,\n",
              "                      -1.0717e-02,  4.3007e-02, -1.7434e-02,  7.2585e-03,  6.8413e-03,\n",
              "                       3.0421e-02,  1.8439e-03, -1.4161e-02, -4.5489e-02, -2.4991e-05,\n",
              "                       2.3909e-02,  2.5698e-02,  2.2303e-02,  1.8176e-02,  7.2280e-03,\n",
              "                      -1.5930e-02,  2.6220e-02,  1.6844e-02,  5.3470e-03, -1.2749e-02,\n",
              "                       1.2444e-02, -1.6427e-02, -1.3536e-02, -1.0338e-02, -3.6373e-02,\n",
              "                      -3.4686e-02,  3.8926e-02,  1.6194e-03,  2.9380e-02,  2.3160e-02,\n",
              "                      -1.9285e-02,  4.1072e-02,  3.4278e-02, -1.3333e-02,  1.8004e-02,\n",
              "                      -3.1432e-02, -2.9434e-02, -5.6901e-03, -4.2548e-02, -6.5592e-03,\n",
              "                       3.3328e-02, -5.4977e-03, -2.3155e-02, -2.4123e-02, -3.1108e-02,\n",
              "                       4.1804e-02, -5.2004e-04, -1.8790e-03,  1.0246e-02, -3.6438e-02,\n",
              "                      -2.2700e-02, -3.5612e-02, -5.2907e-03, -3.0651e-02,  7.2537e-03,\n",
              "                       3.9465e-02, -2.4946e-02, -1.7724e-02, -2.3699e-02, -2.9656e-03,\n",
              "                       1.8386e-02,  1.2532e-02, -1.9120e-02,  9.1772e-03,  8.4569e-03,\n",
              "                      -5.6934e-04,  1.3362e-02,  3.4197e-02,  1.3475e-02,  2.8782e-02,\n",
              "                      -1.5145e-03,  1.6396e-02, -7.4469e-03,  3.4190e-04, -2.5606e-02,\n",
              "                       3.0521e-02, -2.2345e-03,  3.7239e-02,  1.4923e-02,  4.0747e-02,\n",
              "                      -3.5236e-02,  2.0332e-02,  1.3871e-02, -2.0595e-02,  2.7091e-02,\n",
              "                      -2.8164e-03,  3.7255e-02,  4.4512e-02, -3.4129e-02, -1.3548e-02,\n",
              "                      -1.0546e-02,  1.0534e-02, -4.0346e-02, -3.3542e-02,  3.8694e-02,\n",
              "                       2.3306e-02,  3.5863e-02,  3.2354e-02, -6.4705e-03, -6.1454e-03,\n",
              "                      -2.3438e-02, -2.9515e-02,  3.9411e-02, -3.1430e-02,  1.1927e-02,\n",
              "                       1.6780e-02,  4.1191e-02, -2.8710e-02, -3.3400e-02,  2.5842e-02,\n",
              "                       4.6996e-02,  7.2286e-03,  3.2742e-02, -5.1200e-03,  2.2867e-02,\n",
              "                       3.4616e-02, -2.4218e-02, -2.9440e-02, -1.7482e-03,  9.3649e-03,\n",
              "                       1.5968e-02, -2.5892e-02, -3.4060e-02,  6.5825e-03,  3.7388e-02,\n",
              "                      -1.9809e-02, -3.6127e-02, -4.4646e-02,  1.5930e-02,  3.6842e-02,\n",
              "                      -3.3459e-02,  1.3426e-03, -3.3397e-03,  3.5919e-03, -4.5231e-02,\n",
              "                       1.3985e-02,  3.9586e-02,  2.1111e-03, -4.3407e-02,  3.0547e-02,\n",
              "                      -3.2912e-02, -4.8185e-02, -4.2986e-02, -3.1300e-02, -4.6947e-03,\n",
              "                       3.4745e-02, -1.7003e-02,  4.3187e-02,  3.5959e-02,  2.8251e-02,\n",
              "                      -2.5406e-02, -9.7153e-03], device='cuda:0')),\n",
              "             ('decoder.attention.Ua.weight',\n",
              "              tensor([[ 0.0334, -0.0438, -0.0325,  ...,  0.0039,  0.0014, -0.0232],\n",
              "                      [-0.0335,  0.0476, -0.0332,  ..., -0.0263, -0.0279,  0.0377],\n",
              "                      [ 0.0231,  0.0055, -0.0004,  ...,  0.0035,  0.0199,  0.0179],\n",
              "                      ...,\n",
              "                      [ 0.0112,  0.0231, -0.0416,  ..., -0.0069,  0.0209, -0.0198],\n",
              "                      [-0.0071,  0.0091,  0.0220,  ...,  0.0054,  0.0007,  0.0299],\n",
              "                      [-0.0120,  0.0244, -0.0186,  ..., -0.0003,  0.0405, -0.0228]],\n",
              "                     device='cuda:0')),\n",
              "             ('decoder.attention.Ua.bias',\n",
              "              tensor([ 0.0350, -0.0310, -0.0444, -0.0236,  0.0186,  0.0062,  0.0416, -0.0029,\n",
              "                      -0.0385, -0.0202, -0.0148, -0.0101,  0.0314, -0.0251,  0.0369,  0.0117,\n",
              "                       0.0406,  0.0269, -0.0494, -0.0238,  0.0441,  0.0383, -0.0069,  0.0260,\n",
              "                       0.0031,  0.0408,  0.0120,  0.0230,  0.0190,  0.0210, -0.0348,  0.0234,\n",
              "                       0.0078,  0.0099, -0.0172,  0.0316, -0.0234, -0.0133,  0.0017, -0.0349,\n",
              "                      -0.0203,  0.0054, -0.0291,  0.0456, -0.0179,  0.0226,  0.0372,  0.0333,\n",
              "                      -0.0383, -0.0241,  0.0081, -0.0180,  0.0456,  0.0110,  0.0373, -0.0294,\n",
              "                      -0.0275, -0.0089,  0.0365, -0.0305, -0.0082,  0.0272, -0.0068,  0.0419,\n",
              "                      -0.0425, -0.0389,  0.0325,  0.0348,  0.0225,  0.0255,  0.0366, -0.0198,\n",
              "                       0.0059,  0.0295,  0.0129,  0.0142,  0.0410,  0.0230,  0.0190, -0.0346,\n",
              "                      -0.0177,  0.0383, -0.0201,  0.0316, -0.0464, -0.0080,  0.0220,  0.0121,\n",
              "                       0.0150, -0.0079, -0.0435,  0.0382, -0.0180,  0.0217,  0.0215,  0.0109,\n",
              "                       0.0052, -0.0420,  0.0181,  0.0364,  0.0217,  0.0030, -0.0420,  0.0395,\n",
              "                       0.0210,  0.0165,  0.0232, -0.0121,  0.0114, -0.0425, -0.0190, -0.0112,\n",
              "                      -0.0022,  0.0069,  0.0219,  0.0196,  0.0204, -0.0125, -0.0019,  0.0146,\n",
              "                       0.0212,  0.0248, -0.0300, -0.0090,  0.0156,  0.0151,  0.0117,  0.0322,\n",
              "                      -0.0367, -0.0041,  0.0345, -0.0231, -0.0413, -0.0103, -0.0190,  0.0423,\n",
              "                       0.0296, -0.0403,  0.0013, -0.0321, -0.0082, -0.0208, -0.0129,  0.0035,\n",
              "                       0.0465,  0.0417, -0.0019, -0.0045,  0.0123,  0.0089, -0.0124, -0.0184,\n",
              "                      -0.0383, -0.0005,  0.0009,  0.0398, -0.0195,  0.0168, -0.0064,  0.0254,\n",
              "                      -0.0081,  0.0049,  0.0382, -0.0024,  0.0091,  0.0167,  0.0197, -0.0327,\n",
              "                       0.0279,  0.0401,  0.0507,  0.0093, -0.0113, -0.0325,  0.0102,  0.0242,\n",
              "                       0.0287,  0.0380, -0.0148,  0.0203, -0.0227, -0.0373, -0.0091, -0.0102,\n",
              "                       0.0331, -0.0400,  0.0155, -0.0043, -0.0346,  0.0176,  0.0327, -0.0298,\n",
              "                      -0.0137,  0.0020, -0.0397, -0.0247, -0.0364,  0.0023, -0.0355, -0.0330,\n",
              "                      -0.0381, -0.0350, -0.0465, -0.0115,  0.0470, -0.0029, -0.0005, -0.0012,\n",
              "                       0.0388, -0.0182,  0.0083, -0.0124,  0.0468,  0.0304,  0.0387,  0.0188,\n",
              "                      -0.0065,  0.0026,  0.0188, -0.0209, -0.0168,  0.0192, -0.0093, -0.0209,\n",
              "                      -0.0124,  0.0161,  0.0501,  0.0028,  0.0466, -0.0361,  0.0206, -0.0365,\n",
              "                      -0.0025, -0.0243,  0.0105, -0.0133,  0.0369, -0.0372, -0.0257,  0.0200,\n",
              "                      -0.0388,  0.0110, -0.0392, -0.0017,  0.0235, -0.0366,  0.0323,  0.0142,\n",
              "                       0.0428, -0.0350,  0.0230, -0.0060,  0.0173, -0.0117, -0.0206,  0.0208,\n",
              "                       0.0083, -0.0166, -0.0344, -0.0439,  0.0338, -0.0301, -0.0235,  0.0055,\n",
              "                       0.0061,  0.0244, -0.0058, -0.0202,  0.0263,  0.0238, -0.0396, -0.0108,\n",
              "                      -0.0154,  0.0158, -0.0431,  0.0107,  0.0329,  0.0150, -0.0233, -0.0339,\n",
              "                       0.0388,  0.0187, -0.0112,  0.0187, -0.0322,  0.0242,  0.0144,  0.0262,\n",
              "                      -0.0019,  0.0450, -0.0222,  0.0072, -0.0234,  0.0302,  0.0037,  0.0257,\n",
              "                       0.0266,  0.0038,  0.0205,  0.0017,  0.0001,  0.0197, -0.0368, -0.0323,\n",
              "                      -0.0066, -0.0134,  0.0350, -0.0081,  0.0006,  0.0106,  0.0247,  0.0094,\n",
              "                      -0.0470,  0.0041, -0.0310,  0.0221, -0.0424,  0.0143, -0.0456, -0.0230,\n",
              "                      -0.0473,  0.0372,  0.0163,  0.0073, -0.0160, -0.0121,  0.0063, -0.0168,\n",
              "                      -0.0283, -0.0276,  0.0346, -0.0297,  0.0135,  0.0195, -0.0008,  0.0397,\n",
              "                       0.0260,  0.0218, -0.0237, -0.0208,  0.0273, -0.0114, -0.0145,  0.0287,\n",
              "                       0.0199, -0.0219, -0.0061,  0.0065, -0.0321, -0.0168, -0.0391,  0.0360,\n",
              "                       0.0148,  0.0357,  0.0037, -0.0399, -0.0111,  0.0261, -0.0122,  0.0003,\n",
              "                       0.0065,  0.0323, -0.0330,  0.0050,  0.0287, -0.0115, -0.0141, -0.0252,\n",
              "                       0.0340,  0.0183, -0.0169,  0.0419,  0.0040, -0.0225, -0.0021, -0.0168,\n",
              "                      -0.0467,  0.0069, -0.0334,  0.0476,  0.0024,  0.0273,  0.0172,  0.0298,\n",
              "                      -0.0423,  0.0119, -0.0311, -0.0473,  0.0325, -0.0101, -0.0133, -0.0197,\n",
              "                      -0.0088,  0.0049,  0.0371,  0.0217,  0.0009,  0.0474,  0.0288,  0.0077,\n",
              "                      -0.0459,  0.0143,  0.0066, -0.0329, -0.0321, -0.0362, -0.0367,  0.0295,\n",
              "                      -0.0139, -0.0204,  0.0039,  0.0287, -0.0342, -0.0129,  0.0059, -0.0098,\n",
              "                       0.0439, -0.0047,  0.0056, -0.0167, -0.0123, -0.0219,  0.0317, -0.0341,\n",
              "                      -0.0239, -0.0264, -0.0239,  0.0201, -0.0012,  0.0274, -0.0131,  0.0077,\n",
              "                      -0.0312,  0.0078, -0.0204,  0.0308,  0.0163, -0.0316,  0.0095, -0.0203,\n",
              "                       0.0326, -0.0396,  0.0466,  0.0349,  0.0148, -0.0042,  0.0293, -0.0355,\n",
              "                      -0.0075, -0.0370, -0.0060,  0.0330, -0.0238,  0.0475, -0.0203,  0.0302,\n",
              "                       0.0253, -0.0301, -0.0261, -0.0231, -0.0178, -0.0089, -0.0210,  0.0324,\n",
              "                      -0.0095,  0.0412, -0.0289, -0.0404,  0.0038,  0.0162, -0.0017, -0.0081,\n",
              "                      -0.0091, -0.0136, -0.0179,  0.0302,  0.0223,  0.0505,  0.0361, -0.0068,\n",
              "                      -0.0179, -0.0262,  0.0082,  0.0232, -0.0056, -0.0306, -0.0148, -0.0230,\n",
              "                      -0.0249, -0.0107,  0.0075,  0.0256,  0.0041,  0.0071,  0.0073, -0.0093,\n",
              "                      -0.0054,  0.0109,  0.0220, -0.0026,  0.0405, -0.0042,  0.0052, -0.0315,\n",
              "                      -0.0276,  0.0007,  0.0022, -0.0392,  0.0330, -0.0060,  0.0352,  0.0146],\n",
              "                     device='cuda:0')),\n",
              "             ('decoder.attention.Va.weight',\n",
              "              tensor([[ 5.8640e-03, -1.1975e-02,  1.6677e-02,  2.3576e-02,  4.1599e-02,\n",
              "                        4.7368e-02,  3.3533e-03, -3.7679e-03,  7.5988e-03,  5.7008e-03,\n",
              "                        3.6875e-02,  2.5779e-02,  2.2397e-02, -3.3784e-02,  1.5614e-02,\n",
              "                        4.2694e-02,  7.3324e-04,  4.6254e-02,  2.4327e-02, -4.1735e-02,\n",
              "                        3.0065e-02,  1.8479e-03,  5.4201e-04, -1.3017e-03,  8.5576e-04,\n",
              "                        2.8934e-02, -3.0571e-02,  5.1974e-03, -2.1867e-02, -6.7493e-03,\n",
              "                        1.2493e-02, -4.1294e-02, -4.0368e-03,  3.1974e-02, -4.1529e-02,\n",
              "                        1.1228e-02, -4.0853e-03,  5.4135e-03, -3.5048e-02, -3.0015e-02,\n",
              "                        9.6570e-03,  2.6638e-02, -1.8402e-02,  2.7448e-02,  2.9126e-02,\n",
              "                       -1.4977e-02,  1.4102e-02,  1.5247e-02, -1.8547e-02, -8.6473e-03,\n",
              "                        1.2419e-02,  2.0265e-02, -4.1478e-02, -2.7745e-02,  2.4744e-02,\n",
              "                        9.8686e-03, -8.8776e-03,  2.2997e-02,  2.7145e-03, -4.0361e-02,\n",
              "                       -1.2989e-02, -1.7622e-02, -3.3469e-02, -3.0450e-02, -4.1029e-02,\n",
              "                        2.2410e-02,  8.5783e-03, -2.3540e-02,  6.1040e-03,  1.4091e-02,\n",
              "                        3.7829e-03, -3.3608e-02,  3.6128e-02, -3.5173e-02,  1.8414e-03,\n",
              "                        1.8044e-02, -4.2048e-02,  3.4991e-02,  7.1560e-04, -9.5587e-03,\n",
              "                        2.0330e-03, -6.1361e-02, -1.9999e-02, -1.8572e-02,  4.1914e-04,\n",
              "                       -1.7518e-02, -2.8018e-03,  2.8931e-02, -9.5346e-03,  1.2329e-02,\n",
              "                       -3.1578e-02, -9.3223e-03,  4.0861e-02,  4.1676e-03,  2.7234e-02,\n",
              "                        8.3250e-03,  1.4825e-02, -3.5477e-02,  1.1056e-02,  6.1420e-03,\n",
              "                       -8.4611e-03,  3.2448e-02,  2.7320e-02,  5.2320e-03,  1.8559e-02,\n",
              "                       -2.3283e-02, -1.4740e-03,  3.0540e-02, -6.0073e-03,  1.4355e-02,\n",
              "                       -3.0644e-02,  1.3617e-03, -7.4006e-03, -5.0476e-02,  1.1306e-02,\n",
              "                        1.8783e-02,  1.8614e-05, -1.9892e-03, -3.3066e-03,  4.2824e-02,\n",
              "                       -2.8893e-02,  3.0823e-02, -7.6199e-03, -3.2007e-02, -9.3740e-03,\n",
              "                       -3.9890e-02,  1.3019e-02, -3.7784e-02,  1.2114e-02, -2.3775e-02,\n",
              "                       -6.0167e-04,  1.0084e-03,  2.2952e-02,  1.3594e-02,  2.7188e-02,\n",
              "                        1.0663e-02, -3.8596e-02, -3.6741e-02,  1.0818e-03, -3.5540e-02,\n",
              "                       -1.4340e-02,  4.1500e-02, -3.0814e-02, -9.4342e-04, -7.7417e-03,\n",
              "                        7.5531e-04,  6.1853e-03,  5.0012e-03, -3.7707e-02, -3.6768e-02,\n",
              "                       -7.9991e-03, -2.7033e-02,  9.1869e-03, -3.3850e-02, -1.0416e-02,\n",
              "                        4.0601e-02,  2.2434e-02,  2.6941e-02, -1.9541e-02,  2.8454e-02,\n",
              "                       -3.0688e-02,  1.7354e-03, -2.9227e-02,  1.5781e-02, -1.6286e-02,\n",
              "                       -1.5506e-02,  2.2012e-02,  3.6468e-02, -1.8339e-02, -1.0471e-02,\n",
              "                       -1.7517e-03,  3.8856e-02, -1.7966e-02,  3.5457e-02, -2.0589e-02,\n",
              "                       -1.5163e-02, -2.2379e-02,  3.4462e-02, -1.8052e-02,  1.3538e-02,\n",
              "                       -2.1676e-02, -4.4091e-04, -1.2107e-02, -3.4516e-02,  3.6800e-02,\n",
              "                        1.3077e-02,  3.3289e-02, -2.2471e-05, -1.9481e-02, -1.2426e-02,\n",
              "                       -3.2853e-02,  1.7396e-02,  4.0772e-02,  2.0301e-04, -8.0778e-03,\n",
              "                       -3.4774e-02,  2.8591e-02, -6.1277e-03,  2.7028e-02, -6.6456e-03,\n",
              "                        1.5529e-02,  2.0659e-02, -8.5252e-03, -2.9086e-02,  1.6475e-02,\n",
              "                        1.1761e-02, -2.6330e-02, -3.3865e-02,  2.8017e-02, -1.5062e-02,\n",
              "                        1.4940e-02,  7.0748e-03, -1.7362e-02, -3.1291e-02, -4.2427e-02,\n",
              "                        3.0936e-02, -2.2499e-02,  3.5262e-02,  2.1605e-02, -3.8245e-02,\n",
              "                       -3.6027e-02,  1.6689e-02, -1.3345e-03,  5.4430e-05,  2.1058e-02,\n",
              "                        2.3632e-02,  1.2388e-02, -2.0075e-03, -2.5774e-02, -1.0219e-02,\n",
              "                        1.1763e-02,  1.1345e-02, -1.5010e-02, -2.4855e-02, -3.1095e-02,\n",
              "                       -3.9144e-02, -8.2645e-03, -1.0620e-03,  3.3440e-02, -1.8505e-02,\n",
              "                       -2.9830e-02, -2.4372e-03,  4.2067e-02, -2.6066e-02,  3.4367e-02,\n",
              "                        3.2867e-02,  1.2642e-02,  2.5737e-02, -2.8330e-02,  3.5188e-02,\n",
              "                        2.8158e-02, -1.5729e-02, -2.7785e-03, -6.2093e-03,  7.4349e-03,\n",
              "                        2.6907e-02, -1.8511e-02,  3.3856e-02,  1.6668e-02, -1.1907e-02,\n",
              "                        3.4157e-02, -4.2149e-03,  1.0478e-02, -2.3318e-02, -3.1539e-02,\n",
              "                       -2.7912e-02, -1.8068e-02, -2.9870e-02, -1.7579e-02, -3.9219e-03,\n",
              "                        2.4040e-02, -8.5131e-03, -3.8372e-02, -1.5398e-02,  4.1729e-03,\n",
              "                       -1.8423e-02,  2.3096e-02,  1.6482e-02,  2.7840e-02, -3.4739e-02,\n",
              "                        3.1232e-02, -2.1795e-02,  3.2801e-02, -1.4417e-03, -1.9246e-03,\n",
              "                        2.1279e-02, -2.4741e-02, -3.0090e-02, -4.9193e-03, -3.4010e-02,\n",
              "                        1.2237e-02,  1.3318e-02,  8.5278e-03, -2.1128e-04, -3.5887e-02,\n",
              "                        3.5460e-02,  3.7426e-02,  9.7175e-03,  3.3634e-02, -3.8247e-02,\n",
              "                       -9.6738e-03,  1.9953e-02, -4.3730e-02,  2.3787e-02, -1.9325e-02,\n",
              "                        3.7762e-02,  7.7644e-04,  3.7175e-02, -1.6512e-02,  2.4869e-02,\n",
              "                       -3.7315e-04,  2.5084e-02,  3.3904e-04, -1.6826e-02,  3.3955e-02,\n",
              "                       -2.2069e-02,  3.2016e-02,  3.2085e-02, -1.6249e-02, -1.2178e-03,\n",
              "                        2.8580e-02, -1.2519e-02, -5.7108e-03,  9.0050e-03,  1.8389e-02,\n",
              "                       -2.2417e-02,  5.8117e-04, -9.6883e-03,  3.6238e-03,  3.9191e-02,\n",
              "                       -3.5810e-03,  2.1729e-02,  1.7762e-02, -2.0674e-02, -1.6080e-02,\n",
              "                        4.1276e-02,  4.7550e-02, -9.3188e-03, -9.1951e-03, -3.1692e-02,\n",
              "                        8.4854e-03, -1.4121e-03, -4.2168e-02, -3.3907e-02, -3.9025e-02,\n",
              "                        3.6623e-02, -2.8766e-02, -4.3968e-03, -3.9953e-03, -6.0305e-03,\n",
              "                       -8.4432e-03,  9.7668e-03,  1.5193e-02, -6.3613e-03, -1.0859e-02,\n",
              "                        1.4832e-02,  1.5950e-02, -1.4736e-02,  2.7924e-02,  2.0328e-03,\n",
              "                       -1.4484e-02,  4.2939e-02, -7.2856e-03, -3.0162e-04,  3.9270e-02,\n",
              "                        1.6710e-02, -3.2415e-03, -1.8311e-03,  2.9511e-02,  2.0015e-02,\n",
              "                       -2.0158e-02, -3.5500e-02, -2.3088e-02,  3.4923e-02, -3.2427e-02,\n",
              "                       -3.1136e-02,  1.2758e-03,  3.1508e-02, -3.1790e-02,  2.5696e-02,\n",
              "                        4.2080e-02,  3.3907e-02,  3.7195e-02,  2.6141e-02, -4.2620e-03,\n",
              "                        1.7939e-03,  1.5205e-02,  2.9497e-02, -3.6925e-02, -3.0590e-02,\n",
              "                        5.9845e-04, -1.0132e-02, -3.9273e-02, -8.4411e-03,  1.7681e-03,\n",
              "                        4.6932e-02,  3.1456e-02, -3.1201e-02,  6.7640e-03,  2.8450e-02,\n",
              "                       -1.1658e-02, -3.3874e-02, -2.8442e-02, -2.8449e-02,  1.5930e-02,\n",
              "                        3.1835e-03,  7.0987e-03, -3.2121e-02,  4.2297e-02, -4.5052e-02,\n",
              "                       -5.5791e-03, -2.8668e-02, -3.7415e-02,  2.9476e-02, -2.4764e-02,\n",
              "                        2.2830e-02, -4.3312e-03, -4.4985e-02,  3.3909e-02, -2.5993e-02,\n",
              "                        2.3442e-02,  9.5465e-04,  7.1553e-03, -1.8063e-02,  3.3936e-02,\n",
              "                       -6.7479e-03, -5.6447e-03, -2.1481e-02, -7.3432e-04,  2.0257e-03,\n",
              "                       -2.1417e-02,  3.7748e-02, -1.2687e-02, -7.0956e-03,  9.0778e-03,\n",
              "                       -1.9597e-02,  3.1144e-02, -1.3147e-02,  1.8268e-02, -4.2217e-02,\n",
              "                        1.6072e-02,  2.2935e-02, -3.8748e-03,  2.5634e-02,  1.3634e-02,\n",
              "                        1.1416e-02, -5.1064e-03,  2.0000e-02,  3.7170e-02, -1.4326e-02,\n",
              "                        3.4932e-02, -3.8354e-02, -1.1620e-02,  1.0795e-03,  6.0376e-03,\n",
              "                       -3.0878e-02,  1.5460e-02, -3.3307e-02, -8.4299e-03, -2.5328e-03,\n",
              "                        6.4851e-03, -2.6601e-02, -3.9888e-03, -1.6441e-03,  1.8450e-02,\n",
              "                       -2.9534e-02, -2.4754e-02, -3.6609e-02, -2.5841e-02, -1.7261e-02,\n",
              "                       -2.4429e-02,  3.3134e-02,  4.8816e-03, -3.5175e-03,  3.8487e-02,\n",
              "                        7.3912e-03,  1.1240e-03, -1.4456e-02,  4.5054e-02, -1.5406e-02,\n",
              "                       -9.2044e-03,  2.8590e-02,  8.2653e-03, -1.7270e-02, -4.3204e-02,\n",
              "                       -3.3364e-02,  3.7810e-02, -4.4696e-02, -3.3182e-02,  9.8727e-03,\n",
              "                        1.6482e-02, -3.9100e-02,  4.2141e-02,  2.1107e-02, -3.9120e-02,\n",
              "                       -1.3892e-02, -2.0293e-02,  1.0367e-02,  1.2673e-02, -9.5873e-03,\n",
              "                       -6.8479e-03, -2.4123e-03,  3.8366e-02,  1.1722e-02, -3.1034e-02,\n",
              "                       -3.0548e-02, -9.5799e-03,  2.7633e-02, -5.7219e-04,  3.2592e-02,\n",
              "                        3.2971e-03,  2.8464e-04]], device='cuda:0')),\n",
              "             ('decoder.attention.Va.bias', tensor([0.0282], device='cuda:0')),\n",
              "             ('decoder.decoder.weight_ih_l0',\n",
              "              tensor([[-0.0407, -0.0265,  0.0271,  ...,  0.0080, -0.0288, -0.0439],\n",
              "                      [-0.0186,  0.0233,  0.0264,  ...,  0.0126, -0.0070,  0.0214],\n",
              "                      [-0.0350, -0.0174, -0.0194,  ...,  0.0324,  0.0196,  0.0089],\n",
              "                      ...,\n",
              "                      [-0.0067,  0.0422,  0.0120,  ...,  0.0389, -0.0156, -0.0131],\n",
              "                      [-0.0293,  0.0208,  0.0145,  ...,  0.0340, -0.0200,  0.0306],\n",
              "                      [ 0.0379, -0.0397,  0.0299,  ..., -0.0384, -0.0114,  0.0029]],\n",
              "                     device='cuda:0')),\n",
              "             ('decoder.decoder.weight_hh_l0',\n",
              "              tensor([[-5.2238e-03,  2.7281e-02,  3.1394e-02,  ..., -3.0159e-02,\n",
              "                        3.5202e-02,  2.1794e-02],\n",
              "                      [-3.6977e-03, -1.2018e-02, -4.5506e-02,  ..., -3.4372e-02,\n",
              "                        9.6792e-05,  1.4918e-02],\n",
              "                      [ 2.0942e-02, -2.1355e-02, -8.2805e-03,  ...,  2.5794e-02,\n",
              "                        3.8201e-02,  1.2321e-02],\n",
              "                      ...,\n",
              "                      [ 2.5978e-02,  4.1646e-02,  2.3365e-02,  ...,  9.6691e-03,\n",
              "                       -3.7773e-02,  3.0966e-02],\n",
              "                      [ 1.9250e-02,  4.7519e-02, -6.9097e-03,  ..., -3.2287e-02,\n",
              "                       -4.7001e-02,  2.7002e-02],\n",
              "                      [-3.0513e-02,  1.9858e-02, -1.7597e-03,  ..., -1.3842e-02,\n",
              "                        3.4064e-02, -2.7395e-02]], device='cuda:0')),\n",
              "             ('decoder.decoder.bias_ih_l0',\n",
              "              tensor([-0.0393, -0.0422,  0.0310,  ...,  0.0071,  0.0447,  0.0173],\n",
              "                     device='cuda:0')),\n",
              "             ('decoder.decoder.bias_hh_l0',\n",
              "              tensor([-0.0374, -0.0144,  0.0253,  ...,  0.0222,  0.0441, -0.0044],\n",
              "                     device='cuda:0')),\n",
              "             ('decoder.fc.weight',\n",
              "              tensor([[ 0.0537,  0.0184,  0.0208,  ...,  0.0226, -0.0754, -0.0415],\n",
              "                      [ 0.0542,  0.0123,  0.0691,  ..., -0.0346,  0.0356,  0.0396],\n",
              "                      [ 0.0005,  0.0196, -0.0242,  ...,  0.0437,  0.0224,  0.0513],\n",
              "                      ...,\n",
              "                      [-0.0316,  0.0037, -0.0274,  ..., -0.0232,  0.0377, -0.0440],\n",
              "                      [-0.0494,  0.0087, -0.0306,  ..., -0.0105,  0.0291,  0.0197],\n",
              "                      [-0.0036,  0.0087, -0.0221,  ..., -0.0513, -0.0499,  0.0031]],\n",
              "                     device='cuda:0')),\n",
              "             ('decoder.fc.bias',\n",
              "              tensor([-0.0114,  0.0054,  0.0450, -0.0462, -0.0105, -0.0111, -0.0165, -0.0431,\n",
              "                       0.0056, -0.0283, -0.0447, -0.0203,  0.0115,  0.0079, -0.0364, -0.0190,\n",
              "                       0.0091, -0.0073,  0.0169,  0.0177,  0.0097,  0.0087, -0.0011, -0.0152,\n",
              "                      -0.0540, -0.0120, -0.0410, -0.0041, -0.0057,  0.0229, -0.0018, -0.0452,\n",
              "                      -0.0400, -0.0342,  0.0012,  0.0054, -0.0489,  0.0291, -0.0103, -0.0092,\n",
              "                       0.0218, -0.0226,  0.0142, -0.0095, -0.0308,  0.0203, -0.0287, -0.0414,\n",
              "                       0.0275, -0.0414, -0.0025, -0.0447, -0.0218, -0.0343,  0.0151,  0.0063,\n",
              "                       0.0221, -0.0078], device='cuda:0'))])"
            ]
          },
          "metadata": {},
          "execution_count": 39
        }
      ]
    },
    {
      "cell_type": "code",
      "source": [],
      "metadata": {
        "id": "W9tf4yKxpseO"
      },
      "execution_count": null,
      "outputs": []
    }
  ]
}