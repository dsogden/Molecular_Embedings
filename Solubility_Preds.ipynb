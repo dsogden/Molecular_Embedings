{
  "nbformat": 4,
  "nbformat_minor": 0,
  "metadata": {
    "colab": {
      "provenance": [],
      "machine_shape": "hm",
      "gpuType": "A100",
      "mount_file_id": "1klj2C3sGHrFmbFD6acUXh_n5_QXq56T8",
      "authorship_tag": "ABX9TyPrxTj83XYvQ4zyaJV3XTJh",
      "include_colab_link": true
    },
    "kernelspec": {
      "name": "python3",
      "display_name": "Python 3"
    },
    "language_info": {
      "name": "python"
    },
    "accelerator": "GPU"
  },
  "cells": [
    {
      "cell_type": "markdown",
      "metadata": {
        "id": "view-in-github",
        "colab_type": "text"
      },
      "source": [
        "<a href=\"https://colab.research.google.com/github/dsogden/Molecular_Embedings/blob/main/Solubility_Preds.ipynb\" target=\"_parent\"><img src=\"https://colab.research.google.com/assets/colab-badge.svg\" alt=\"Open In Colab\"/></a>"
      ]
    },
    {
      "cell_type": "code",
      "execution_count": 1,
      "metadata": {
        "colab": {
          "base_uri": "https://localhost:8080/"
        },
        "id": "n5IWKyTqq0PI",
        "outputId": "72e5a0be-c40a-4723-b5cb-2c4ac557db85"
      },
      "outputs": [
        {
          "output_type": "stream",
          "name": "stdout",
          "text": [
            "cuda:0\n",
            "  mol_id smiles          A           B           C      mu  alpha    homo  \\\n",
            "0  gdb_1      C  157.71180  157.709970  157.706990  0.0000  13.21 -0.3877   \n",
            "1  gdb_2      N  293.60975  293.541110  191.393970  1.6256   9.46 -0.2570   \n",
            "2  gdb_3      O  799.58812  437.903860  282.945450  1.8511   6.31 -0.2928   \n",
            "3  gdb_4    C#C    0.00000   35.610036   35.610036  0.0000  16.28 -0.2845   \n",
            "4  gdb_5    C#N    0.00000   44.593883   44.593883  2.8937  12.99 -0.3604   \n",
            "\n",
            "     lumo     gap  ...      zpve         u0       u298       h298       g298  \\\n",
            "0  0.1171  0.5048  ...  0.044749 -40.478930 -40.476062 -40.475117 -40.498597   \n",
            "1  0.0829  0.3399  ...  0.034358 -56.525887 -56.523026 -56.522082 -56.544961   \n",
            "2  0.0687  0.3615  ...  0.021375 -76.404702 -76.401867 -76.400922 -76.422349   \n",
            "3  0.0506  0.3351  ...  0.026841 -77.308427 -77.305527 -77.304583 -77.327429   \n",
            "4  0.0191  0.3796  ...  0.016601 -93.411888 -93.409370 -93.408425 -93.431246   \n",
            "\n",
            "      cv     u0_atom   u298_atom   h298_atom   g298_atom  \n",
            "0  6.469 -395.999595 -398.643290 -401.014647 -372.471772  \n",
            "1  6.316 -276.861363 -278.620271 -280.399259 -259.338802  \n",
            "2  6.002 -213.087624 -213.974294 -215.159658 -201.407171  \n",
            "3  8.574 -385.501997 -387.237686 -389.016047 -365.800724  \n",
            "4  6.278 -301.820534 -302.906752 -304.091489 -288.720028  \n",
            "\n",
            "[5 rows x 21 columns]\n"
          ]
        }
      ],
      "source": [
        "import pandas as pd\n",
        "import numpy as np\n",
        "import torch\n",
        "from torch import nn\n",
        "import torch.nn.functional as F\n",
        "from torch.utils.data import Dataset, DataLoader\n",
        "import matplotlib.pyplot as plt\n",
        "import math\n",
        "\n",
        "device = torch.device(\"cuda:0\" if torch.cuda.is_available() else \"cpu\")\n",
        "print(device)\n",
        "def read_file(path: str) -> pd.DataFrame:\n",
        "    return pd.read_csv(path)\n",
        "\n",
        "path = \"https://deepchemdata.s3-us-west-1.amazonaws.com/datasets/qm9.csv\"\n",
        "qm = read_file(path)\n",
        "print(qm.head(5))\n",
        "\n",
        "def build_vocab(smiles: np.ndarray) -> list:\n",
        "    vocab = set(char for smile in smiles for char in smile)\n",
        "    return sorted(list(vocab))\n",
        "\n",
        "def get_length(smiles: np.ndarray) -> int:\n",
        "    return max(len(smile) for smile in smiles)\n",
        "\n",
        "# def vectorize(smiles: np.ndarray, vocab: list, max_length: int) -> tuple:\n",
        "#     N = smiles.shape[0]\n",
        "#     vectors = np.zeros((N, max_length + 2), dtype=np.int32)\n",
        "#     encoder = {char: idx + 3 for idx, char in enumerate(vocab)}\n",
        "#     encoder['<SOS>'] = 0\n",
        "#     encoder['<EOS>'] = 1\n",
        "#     encoder['<PAD>'] = 2\n",
        "#     decoder = {idx: char for char, idx in encoder.items()}\n",
        "#     for i, smile in enumerate(smiles):\n",
        "#         vectors[i, 0] = encoder['<SOS>']\n",
        "#         for j, char in enumerate(smile):\n",
        "#             vectors[i, j + 1] = encoder[char]\n",
        "#         vectors[i, j + 2] = encoder['<EOS>']\n",
        "#         vectors[i, j + 3:] = encoder['<PAD>']\n",
        "#     return vectors, encoder, decoder\n",
        "\n",
        "# vocab = build_vocab(df.smiles.values)\n",
        "# max_length = get_length(df.smiles.values)\n",
        "# vectors, encoder, decoder = vectorize(df.smiles, vocab, max_length)"
      ]
    },
    {
      "cell_type": "code",
      "source": [
        "path = '/content/drive/MyDrive/MolecularEmbeddings/embeddings.csv'\n",
        "embeddings = read_file(path)\n",
        "embeddings.head(5)"
      ],
      "metadata": {
        "colab": {
          "base_uri": "https://localhost:8080/",
          "height": 236
        },
        "id": "uajNeYattStL",
        "outputId": "73d473fd-3594-4852-a87c-c31b796359b6"
      },
      "execution_count": 2,
      "outputs": [
        {
          "output_type": "execute_result",
          "data": {
            "text/plain": [
              "      <SOS>     <EOS>     <PAD>         #         (         )         +  \\\n",
              "0 -1.183221 -1.793047  0.738443  1.219126  1.329102  0.097727  0.373874   \n",
              "1  0.194118  1.281559  0.796392 -1.033122 -0.052620  0.522565  0.226066   \n",
              "2 -1.793747 -1.109231 -0.247766 -0.453665  0.104115 -1.192022  0.168765   \n",
              "3 -0.276992  0.153283 -1.178222 -1.689806  0.701547 -2.018645  1.863204   \n",
              "4 -0.876129 -0.626355  0.761519  0.457153  1.096703 -0.783055  1.826797   \n",
              "\n",
              "          -         .         /  ...         g         i         l         n  \\\n",
              "0  0.024534  1.257193 -1.084742  ... -1.026990 -0.457998 -0.191298 -0.215389   \n",
              "1  1.847133 -0.013899 -1.275680  ...  1.855980 -0.360837 -0.180442  0.981018   \n",
              "2  0.509450  1.166355 -2.499632  ...  2.088388  1.573412 -0.490493  0.421865   \n",
              "3  0.388432  0.803100 -0.643599  ... -0.684915  1.171107  0.275846  1.716496   \n",
              "4 -0.283934  1.276044  1.068725  ... -1.165708  0.551647  1.630858  0.399058   \n",
              "\n",
              "          o         r         s         t         u         y  \n",
              "0  1.515682  0.226548 -2.374981 -0.694066  0.947002  1.056443  \n",
              "1  0.241289  0.284775 -0.016024 -0.131186  1.053184  1.660969  \n",
              "2 -1.163029 -0.288727  0.629305  0.833252 -1.386993 -1.380402  \n",
              "3  1.633515  0.197010 -1.057300 -0.388679  0.633261 -0.854715  \n",
              "4  0.431233 -1.419900  0.831910  1.014781 -1.412284  0.292430  \n",
              "\n",
              "[5 rows x 58 columns]"
            ],
            "text/html": [
              "\n",
              "  <div id=\"df-c2881d97-2acc-4a52-8e00-d8490d3e72d4\" class=\"colab-df-container\">\n",
              "    <div>\n",
              "<style scoped>\n",
              "    .dataframe tbody tr th:only-of-type {\n",
              "        vertical-align: middle;\n",
              "    }\n",
              "\n",
              "    .dataframe tbody tr th {\n",
              "        vertical-align: top;\n",
              "    }\n",
              "\n",
              "    .dataframe thead th {\n",
              "        text-align: right;\n",
              "    }\n",
              "</style>\n",
              "<table border=\"1\" class=\"dataframe\">\n",
              "  <thead>\n",
              "    <tr style=\"text-align: right;\">\n",
              "      <th></th>\n",
              "      <th>&lt;SOS&gt;</th>\n",
              "      <th>&lt;EOS&gt;</th>\n",
              "      <th>&lt;PAD&gt;</th>\n",
              "      <th>#</th>\n",
              "      <th>(</th>\n",
              "      <th>)</th>\n",
              "      <th>+</th>\n",
              "      <th>-</th>\n",
              "      <th>.</th>\n",
              "      <th>/</th>\n",
              "      <th>...</th>\n",
              "      <th>g</th>\n",
              "      <th>i</th>\n",
              "      <th>l</th>\n",
              "      <th>n</th>\n",
              "      <th>o</th>\n",
              "      <th>r</th>\n",
              "      <th>s</th>\n",
              "      <th>t</th>\n",
              "      <th>u</th>\n",
              "      <th>y</th>\n",
              "    </tr>\n",
              "  </thead>\n",
              "  <tbody>\n",
              "    <tr>\n",
              "      <th>0</th>\n",
              "      <td>-1.183221</td>\n",
              "      <td>-1.793047</td>\n",
              "      <td>0.738443</td>\n",
              "      <td>1.219126</td>\n",
              "      <td>1.329102</td>\n",
              "      <td>0.097727</td>\n",
              "      <td>0.373874</td>\n",
              "      <td>0.024534</td>\n",
              "      <td>1.257193</td>\n",
              "      <td>-1.084742</td>\n",
              "      <td>...</td>\n",
              "      <td>-1.026990</td>\n",
              "      <td>-0.457998</td>\n",
              "      <td>-0.191298</td>\n",
              "      <td>-0.215389</td>\n",
              "      <td>1.515682</td>\n",
              "      <td>0.226548</td>\n",
              "      <td>-2.374981</td>\n",
              "      <td>-0.694066</td>\n",
              "      <td>0.947002</td>\n",
              "      <td>1.056443</td>\n",
              "    </tr>\n",
              "    <tr>\n",
              "      <th>1</th>\n",
              "      <td>0.194118</td>\n",
              "      <td>1.281559</td>\n",
              "      <td>0.796392</td>\n",
              "      <td>-1.033122</td>\n",
              "      <td>-0.052620</td>\n",
              "      <td>0.522565</td>\n",
              "      <td>0.226066</td>\n",
              "      <td>1.847133</td>\n",
              "      <td>-0.013899</td>\n",
              "      <td>-1.275680</td>\n",
              "      <td>...</td>\n",
              "      <td>1.855980</td>\n",
              "      <td>-0.360837</td>\n",
              "      <td>-0.180442</td>\n",
              "      <td>0.981018</td>\n",
              "      <td>0.241289</td>\n",
              "      <td>0.284775</td>\n",
              "      <td>-0.016024</td>\n",
              "      <td>-0.131186</td>\n",
              "      <td>1.053184</td>\n",
              "      <td>1.660969</td>\n",
              "    </tr>\n",
              "    <tr>\n",
              "      <th>2</th>\n",
              "      <td>-1.793747</td>\n",
              "      <td>-1.109231</td>\n",
              "      <td>-0.247766</td>\n",
              "      <td>-0.453665</td>\n",
              "      <td>0.104115</td>\n",
              "      <td>-1.192022</td>\n",
              "      <td>0.168765</td>\n",
              "      <td>0.509450</td>\n",
              "      <td>1.166355</td>\n",
              "      <td>-2.499632</td>\n",
              "      <td>...</td>\n",
              "      <td>2.088388</td>\n",
              "      <td>1.573412</td>\n",
              "      <td>-0.490493</td>\n",
              "      <td>0.421865</td>\n",
              "      <td>-1.163029</td>\n",
              "      <td>-0.288727</td>\n",
              "      <td>0.629305</td>\n",
              "      <td>0.833252</td>\n",
              "      <td>-1.386993</td>\n",
              "      <td>-1.380402</td>\n",
              "    </tr>\n",
              "    <tr>\n",
              "      <th>3</th>\n",
              "      <td>-0.276992</td>\n",
              "      <td>0.153283</td>\n",
              "      <td>-1.178222</td>\n",
              "      <td>-1.689806</td>\n",
              "      <td>0.701547</td>\n",
              "      <td>-2.018645</td>\n",
              "      <td>1.863204</td>\n",
              "      <td>0.388432</td>\n",
              "      <td>0.803100</td>\n",
              "      <td>-0.643599</td>\n",
              "      <td>...</td>\n",
              "      <td>-0.684915</td>\n",
              "      <td>1.171107</td>\n",
              "      <td>0.275846</td>\n",
              "      <td>1.716496</td>\n",
              "      <td>1.633515</td>\n",
              "      <td>0.197010</td>\n",
              "      <td>-1.057300</td>\n",
              "      <td>-0.388679</td>\n",
              "      <td>0.633261</td>\n",
              "      <td>-0.854715</td>\n",
              "    </tr>\n",
              "    <tr>\n",
              "      <th>4</th>\n",
              "      <td>-0.876129</td>\n",
              "      <td>-0.626355</td>\n",
              "      <td>0.761519</td>\n",
              "      <td>0.457153</td>\n",
              "      <td>1.096703</td>\n",
              "      <td>-0.783055</td>\n",
              "      <td>1.826797</td>\n",
              "      <td>-0.283934</td>\n",
              "      <td>1.276044</td>\n",
              "      <td>1.068725</td>\n",
              "      <td>...</td>\n",
              "      <td>-1.165708</td>\n",
              "      <td>0.551647</td>\n",
              "      <td>1.630858</td>\n",
              "      <td>0.399058</td>\n",
              "      <td>0.431233</td>\n",
              "      <td>-1.419900</td>\n",
              "      <td>0.831910</td>\n",
              "      <td>1.014781</td>\n",
              "      <td>-1.412284</td>\n",
              "      <td>0.292430</td>\n",
              "    </tr>\n",
              "  </tbody>\n",
              "</table>\n",
              "<p>5 rows × 58 columns</p>\n",
              "</div>\n",
              "    <div class=\"colab-df-buttons\">\n",
              "\n",
              "  <div class=\"colab-df-container\">\n",
              "    <button class=\"colab-df-convert\" onclick=\"convertToInteractive('df-c2881d97-2acc-4a52-8e00-d8490d3e72d4')\"\n",
              "            title=\"Convert this dataframe to an interactive table.\"\n",
              "            style=\"display:none;\">\n",
              "\n",
              "  <svg xmlns=\"http://www.w3.org/2000/svg\" height=\"24px\" viewBox=\"0 -960 960 960\">\n",
              "    <path d=\"M120-120v-720h720v720H120Zm60-500h600v-160H180v160Zm220 220h160v-160H400v160Zm0 220h160v-160H400v160ZM180-400h160v-160H180v160Zm440 0h160v-160H620v160ZM180-180h160v-160H180v160Zm440 0h160v-160H620v160Z\"/>\n",
              "  </svg>\n",
              "    </button>\n",
              "\n",
              "  <style>\n",
              "    .colab-df-container {\n",
              "      display:flex;\n",
              "      gap: 12px;\n",
              "    }\n",
              "\n",
              "    .colab-df-convert {\n",
              "      background-color: #E8F0FE;\n",
              "      border: none;\n",
              "      border-radius: 50%;\n",
              "      cursor: pointer;\n",
              "      display: none;\n",
              "      fill: #1967D2;\n",
              "      height: 32px;\n",
              "      padding: 0 0 0 0;\n",
              "      width: 32px;\n",
              "    }\n",
              "\n",
              "    .colab-df-convert:hover {\n",
              "      background-color: #E2EBFA;\n",
              "      box-shadow: 0px 1px 2px rgba(60, 64, 67, 0.3), 0px 1px 3px 1px rgba(60, 64, 67, 0.15);\n",
              "      fill: #174EA6;\n",
              "    }\n",
              "\n",
              "    .colab-df-buttons div {\n",
              "      margin-bottom: 4px;\n",
              "    }\n",
              "\n",
              "    [theme=dark] .colab-df-convert {\n",
              "      background-color: #3B4455;\n",
              "      fill: #D2E3FC;\n",
              "    }\n",
              "\n",
              "    [theme=dark] .colab-df-convert:hover {\n",
              "      background-color: #434B5C;\n",
              "      box-shadow: 0px 1px 3px 1px rgba(0, 0, 0, 0.15);\n",
              "      filter: drop-shadow(0px 1px 2px rgba(0, 0, 0, 0.3));\n",
              "      fill: #FFFFFF;\n",
              "    }\n",
              "  </style>\n",
              "\n",
              "    <script>\n",
              "      const buttonEl =\n",
              "        document.querySelector('#df-c2881d97-2acc-4a52-8e00-d8490d3e72d4 button.colab-df-convert');\n",
              "      buttonEl.style.display =\n",
              "        google.colab.kernel.accessAllowed ? 'block' : 'none';\n",
              "\n",
              "      async function convertToInteractive(key) {\n",
              "        const element = document.querySelector('#df-c2881d97-2acc-4a52-8e00-d8490d3e72d4');\n",
              "        const dataTable =\n",
              "          await google.colab.kernel.invokeFunction('convertToInteractive',\n",
              "                                                    [key], {});\n",
              "        if (!dataTable) return;\n",
              "\n",
              "        const docLinkHtml = 'Like what you see? Visit the ' +\n",
              "          '<a target=\"_blank\" href=https://colab.research.google.com/notebooks/data_table.ipynb>data table notebook</a>'\n",
              "          + ' to learn more about interactive tables.';\n",
              "        element.innerHTML = '';\n",
              "        dataTable['output_type'] = 'display_data';\n",
              "        await google.colab.output.renderOutput(dataTable, element);\n",
              "        const docLink = document.createElement('div');\n",
              "        docLink.innerHTML = docLinkHtml;\n",
              "        element.appendChild(docLink);\n",
              "      }\n",
              "    </script>\n",
              "  </div>\n",
              "\n",
              "\n",
              "<div id=\"df-1bcb498f-c4fe-4940-baa3-caa9d51e2ce8\">\n",
              "  <button class=\"colab-df-quickchart\" onclick=\"quickchart('df-1bcb498f-c4fe-4940-baa3-caa9d51e2ce8')\"\n",
              "            title=\"Suggest charts\"\n",
              "            style=\"display:none;\">\n",
              "\n",
              "<svg xmlns=\"http://www.w3.org/2000/svg\" height=\"24px\"viewBox=\"0 0 24 24\"\n",
              "     width=\"24px\">\n",
              "    <g>\n",
              "        <path d=\"M19 3H5c-1.1 0-2 .9-2 2v14c0 1.1.9 2 2 2h14c1.1 0 2-.9 2-2V5c0-1.1-.9-2-2-2zM9 17H7v-7h2v7zm4 0h-2V7h2v10zm4 0h-2v-4h2v4z\"/>\n",
              "    </g>\n",
              "</svg>\n",
              "  </button>\n",
              "\n",
              "<style>\n",
              "  .colab-df-quickchart {\n",
              "      --bg-color: #E8F0FE;\n",
              "      --fill-color: #1967D2;\n",
              "      --hover-bg-color: #E2EBFA;\n",
              "      --hover-fill-color: #174EA6;\n",
              "      --disabled-fill-color: #AAA;\n",
              "      --disabled-bg-color: #DDD;\n",
              "  }\n",
              "\n",
              "  [theme=dark] .colab-df-quickchart {\n",
              "      --bg-color: #3B4455;\n",
              "      --fill-color: #D2E3FC;\n",
              "      --hover-bg-color: #434B5C;\n",
              "      --hover-fill-color: #FFFFFF;\n",
              "      --disabled-bg-color: #3B4455;\n",
              "      --disabled-fill-color: #666;\n",
              "  }\n",
              "\n",
              "  .colab-df-quickchart {\n",
              "    background-color: var(--bg-color);\n",
              "    border: none;\n",
              "    border-radius: 50%;\n",
              "    cursor: pointer;\n",
              "    display: none;\n",
              "    fill: var(--fill-color);\n",
              "    height: 32px;\n",
              "    padding: 0;\n",
              "    width: 32px;\n",
              "  }\n",
              "\n",
              "  .colab-df-quickchart:hover {\n",
              "    background-color: var(--hover-bg-color);\n",
              "    box-shadow: 0 1px 2px rgba(60, 64, 67, 0.3), 0 1px 3px 1px rgba(60, 64, 67, 0.15);\n",
              "    fill: var(--button-hover-fill-color);\n",
              "  }\n",
              "\n",
              "  .colab-df-quickchart-complete:disabled,\n",
              "  .colab-df-quickchart-complete:disabled:hover {\n",
              "    background-color: var(--disabled-bg-color);\n",
              "    fill: var(--disabled-fill-color);\n",
              "    box-shadow: none;\n",
              "  }\n",
              "\n",
              "  .colab-df-spinner {\n",
              "    border: 2px solid var(--fill-color);\n",
              "    border-color: transparent;\n",
              "    border-bottom-color: var(--fill-color);\n",
              "    animation:\n",
              "      spin 1s steps(1) infinite;\n",
              "  }\n",
              "\n",
              "  @keyframes spin {\n",
              "    0% {\n",
              "      border-color: transparent;\n",
              "      border-bottom-color: var(--fill-color);\n",
              "      border-left-color: var(--fill-color);\n",
              "    }\n",
              "    20% {\n",
              "      border-color: transparent;\n",
              "      border-left-color: var(--fill-color);\n",
              "      border-top-color: var(--fill-color);\n",
              "    }\n",
              "    30% {\n",
              "      border-color: transparent;\n",
              "      border-left-color: var(--fill-color);\n",
              "      border-top-color: var(--fill-color);\n",
              "      border-right-color: var(--fill-color);\n",
              "    }\n",
              "    40% {\n",
              "      border-color: transparent;\n",
              "      border-right-color: var(--fill-color);\n",
              "      border-top-color: var(--fill-color);\n",
              "    }\n",
              "    60% {\n",
              "      border-color: transparent;\n",
              "      border-right-color: var(--fill-color);\n",
              "    }\n",
              "    80% {\n",
              "      border-color: transparent;\n",
              "      border-right-color: var(--fill-color);\n",
              "      border-bottom-color: var(--fill-color);\n",
              "    }\n",
              "    90% {\n",
              "      border-color: transparent;\n",
              "      border-bottom-color: var(--fill-color);\n",
              "    }\n",
              "  }\n",
              "</style>\n",
              "\n",
              "  <script>\n",
              "    async function quickchart(key) {\n",
              "      const quickchartButtonEl =\n",
              "        document.querySelector('#' + key + ' button');\n",
              "      quickchartButtonEl.disabled = true;  // To prevent multiple clicks.\n",
              "      quickchartButtonEl.classList.add('colab-df-spinner');\n",
              "      try {\n",
              "        const charts = await google.colab.kernel.invokeFunction(\n",
              "            'suggestCharts', [key], {});\n",
              "      } catch (error) {\n",
              "        console.error('Error during call to suggestCharts:', error);\n",
              "      }\n",
              "      quickchartButtonEl.classList.remove('colab-df-spinner');\n",
              "      quickchartButtonEl.classList.add('colab-df-quickchart-complete');\n",
              "    }\n",
              "    (() => {\n",
              "      let quickchartButtonEl =\n",
              "        document.querySelector('#df-1bcb498f-c4fe-4940-baa3-caa9d51e2ce8 button');\n",
              "      quickchartButtonEl.style.display =\n",
              "        google.colab.kernel.accessAllowed ? 'block' : 'none';\n",
              "    })();\n",
              "  </script>\n",
              "</div>\n",
              "\n",
              "    </div>\n",
              "  </div>\n"
            ],
            "application/vnd.google.colaboratory.intrinsic+json": {
              "type": "dataframe",
              "variable_name": "embeddings"
            }
          },
          "metadata": {},
          "execution_count": 2
        }
      ]
    },
    {
      "cell_type": "code",
      "source": [
        "encoder = {char: idx for idx, char in enumerate(embeddings.columns)}\n",
        "decoder = {idx: char for char, idx in encoder.items()}\n",
        "len(encoder), len(decoder)"
      ],
      "metadata": {
        "colab": {
          "base_uri": "https://localhost:8080/"
        },
        "id": "HVcZp6vAts2M",
        "outputId": "4e652271-a803-4282-a16b-bfece5ea8802"
      },
      "execution_count": 3,
      "outputs": [
        {
          "output_type": "execute_result",
          "data": {
            "text/plain": [
              "(58, 58)"
            ]
          },
          "metadata": {},
          "execution_count": 3
        }
      ]
    },
    {
      "cell_type": "code",
      "source": [
        "max_length = get_length(qm.smiles.values)\n",
        "def vectorize(smiles: np.ndarray, max_length: int, encoder: dict) -> np.ndarray:\n",
        "    N = smiles.shape[0]\n",
        "    vectors = np.zeros((N, max_length + 3), dtype=np.int32)\n",
        "    encoder['<SOS>'] = 0\n",
        "    encoder['<EOS>'] = 1\n",
        "    encoder['<PAD>'] = 2\n",
        "    decoder = {idx: char for char, idx in encoder.items()}\n",
        "    for i, smile in enumerate(smiles):\n",
        "        vectors[i, 0] = encoder['<SOS>']\n",
        "        for j, char in enumerate(smile):\n",
        "            vectors[i, j + 1] = encoder[char]\n",
        "        vectors[i, j + 2] = encoder['<EOS>']\n",
        "        vectors[i, j + 3:] = encoder['<PAD>']\n",
        "    return vectors\n",
        "\n",
        "vectors = vectorize(qm.smiles.values, max_length, encoder)"
      ],
      "metadata": {
        "id": "X-lMBbbsvVqs"
      },
      "execution_count": 4,
      "outputs": []
    },
    {
      "cell_type": "code",
      "source": [
        "columns = embeddings.columns\n",
        "embed_vectors = {\n",
        "    col: np.array(embeddings[col])\n",
        "    for col in columns\n",
        "}\n",
        "\n",
        "X = np.zeros((vectors.shape[0], max_length + 3, 512))\n",
        "for i in range(vectors.shape[0]):\n",
        "    for j in range(vectors.shape[1]):\n",
        "        X[i, j, :] = embed_vectors[decoder[vectors[i, j]]]\n",
        "X.shape"
      ],
      "metadata": {
        "colab": {
          "base_uri": "https://localhost:8080/"
        },
        "collapsed": true,
        "id": "g14ktyENwTy9",
        "outputId": "6affe593-8bf6-4213-e872-1864f3255151"
      },
      "execution_count": 5,
      "outputs": [
        {
          "output_type": "execute_result",
          "data": {
            "text/plain": [
              "(133885, 32, 512)"
            ]
          },
          "metadata": {},
          "execution_count": 5
        }
      ]
    },
    {
      "cell_type": "code",
      "source": [
        "! pip install rdkit\n",
        "\n",
        "from rdkit import Chem\n",
        "from rdkit.Chem import Descriptors\n",
        "\n",
        "def compute_logP(df: pd.DataFrame) -> pd.DataFrame:\n",
        "    smiles = df['smiles'].values\n",
        "    logP = np.zeros((smiles.shape[0], 1))\n",
        "    for idx, smile in enumerate(smiles):\n",
        "        mol = Chem.MolFromSmiles(smile)\n",
        "        val = Descriptors.MolLogP(mol)\n",
        "        logP[idx] = val\n",
        "    df['molLogP'] = logP\n",
        "    return df['molLogP']\n",
        "\n",
        "logP = compute_logP(qm)\n",
        "logP.head(5)"
      ],
      "metadata": {
        "colab": {
          "base_uri": "https://localhost:8080/",
          "height": 380
        },
        "id": "IhvVKkPZxV-o",
        "outputId": "def9fa20-6923-4cfc-d0e7-d9f2c34d6306"
      },
      "execution_count": 6,
      "outputs": [
        {
          "output_type": "stream",
          "name": "stdout",
          "text": [
            "Collecting rdkit\n",
            "  Downloading rdkit-2024.3.6-cp310-cp310-manylinux_2_28_x86_64.whl.metadata (4.0 kB)\n",
            "Requirement already satisfied: numpy in /usr/local/lib/python3.10/dist-packages (from rdkit) (1.26.4)\n",
            "Requirement already satisfied: Pillow in /usr/local/lib/python3.10/dist-packages (from rdkit) (11.0.0)\n",
            "Downloading rdkit-2024.3.6-cp310-cp310-manylinux_2_28_x86_64.whl (32.8 MB)\n",
            "\u001b[2K   \u001b[90m━━━━━━━━━━━━━━━━━━━━━━━━━━━━━━━━━━━━━━━━\u001b[0m \u001b[32m32.8/32.8 MB\u001b[0m \u001b[31m22.4 MB/s\u001b[0m eta \u001b[36m0:00:00\u001b[0m\n",
            "\u001b[?25hInstalling collected packages: rdkit\n",
            "Successfully installed rdkit-2024.3.6\n"
          ]
        },
        {
          "output_type": "execute_result",
          "data": {
            "text/plain": [
              "0    0.63610\n",
              "1    0.16200\n",
              "2   -0.82470\n",
              "3    0.24940\n",
              "4    0.13978\n",
              "Name: molLogP, dtype: float64"
            ],
            "text/html": [
              "<div>\n",
              "<style scoped>\n",
              "    .dataframe tbody tr th:only-of-type {\n",
              "        vertical-align: middle;\n",
              "    }\n",
              "\n",
              "    .dataframe tbody tr th {\n",
              "        vertical-align: top;\n",
              "    }\n",
              "\n",
              "    .dataframe thead th {\n",
              "        text-align: right;\n",
              "    }\n",
              "</style>\n",
              "<table border=\"1\" class=\"dataframe\">\n",
              "  <thead>\n",
              "    <tr style=\"text-align: right;\">\n",
              "      <th></th>\n",
              "      <th>molLogP</th>\n",
              "    </tr>\n",
              "  </thead>\n",
              "  <tbody>\n",
              "    <tr>\n",
              "      <th>0</th>\n",
              "      <td>0.63610</td>\n",
              "    </tr>\n",
              "    <tr>\n",
              "      <th>1</th>\n",
              "      <td>0.16200</td>\n",
              "    </tr>\n",
              "    <tr>\n",
              "      <th>2</th>\n",
              "      <td>-0.82470</td>\n",
              "    </tr>\n",
              "    <tr>\n",
              "      <th>3</th>\n",
              "      <td>0.24940</td>\n",
              "    </tr>\n",
              "    <tr>\n",
              "      <th>4</th>\n",
              "      <td>0.13978</td>\n",
              "    </tr>\n",
              "  </tbody>\n",
              "</table>\n",
              "</div><br><label><b>dtype:</b> float64</label>"
            ]
          },
          "metadata": {},
          "execution_count": 6
        }
      ]
    },
    {
      "cell_type": "code",
      "source": [
        "from sklearn.model_selection import train_test_split\n",
        "y = logP.values\n",
        "X_train, X_test, y_train, y_test = train_test_split(\n",
        "    X, y, test_size=0.2, random_state=42\n",
        ")\n",
        "\n",
        "X_train.shape, X_test.shape, y_train.shape, y_test.shape"
      ],
      "metadata": {
        "colab": {
          "base_uri": "https://localhost:8080/"
        },
        "id": "mj2kb6eox4pu",
        "outputId": "1063ab84-878f-4355-8bbb-14bec2d5eade"
      },
      "execution_count": 7,
      "outputs": [
        {
          "output_type": "execute_result",
          "data": {
            "text/plain": [
              "((107108, 32, 512), (26777, 32, 512), (107108,), (26777,))"
            ]
          },
          "metadata": {},
          "execution_count": 7
        }
      ]
    },
    {
      "cell_type": "code",
      "source": [
        "class LinearModel(nn.Module):\n",
        "    def __init__(self, input_dim: int, output_dim: int):\n",
        "        super(LinearModel, self).__init__()\n",
        "        self.rnn = nn.LSTM(input_dim, 128, batch_first=True)\n",
        "        self.linear = nn.Linear(128, output_dim)\n",
        "\n",
        "    def forward(self, x):\n",
        "        rnn, _ = self.rnn(x)\n",
        "        output = self.linear(rnn[:, -1, :])\n",
        "        return output"
      ],
      "metadata": {
        "id": "Q9UdIBnHyet0"
      },
      "execution_count": 8,
      "outputs": []
    },
    {
      "cell_type": "code",
      "source": [
        "from torch.utils.data import TensorDataset, DataLoader\n",
        "\n",
        "X_train = torch.tensor(X_train, dtype=torch.float32)\n",
        "X_test = torch.tensor(X_test, dtype=torch.float32)\n",
        "y_train = torch.tensor(y_train.reshape(-1, 1), dtype=torch.float32)\n",
        "y_test = torch.tensor(y_test.reshape(-1, 1), dtype=torch.float32)\n",
        "train_dataset = TensorDataset(X_train, y_train)\n",
        "test_dataset = TensorDataset(X_test, y_test)\n",
        "\n",
        "train_dataloader = DataLoader(train_dataset, batch_size=128, shuffle=True)\n",
        "test_dataloader = DataLoader(test_dataset, batch_size=128, shuffle=False)"
      ],
      "metadata": {
        "id": "jUE0gCyry-mX"
      },
      "execution_count": 10,
      "outputs": []
    },
    {
      "cell_type": "code",
      "source": [
        "def MAE(y_true, y_pred):\n",
        "    return torch.mean(torch.abs(y_true - y_pred))\n",
        "\n",
        "def train(dataloader, model, optimizer, loss_fn):\n",
        "    running_loss = 0\n",
        "    running_mae = 0\n",
        "    model.train()\n",
        "    for X, y in dataloader:\n",
        "        preds = model(X.to(device))\n",
        "        loss = loss_fn(preds, y.to(device))\n",
        "        optimizer.zero_grad()\n",
        "        loss.backward()\n",
        "        optimizer.step()\n",
        "        running_loss += loss.item()\n",
        "        running_mae += MAE(preds, y.to(device)).item()\n",
        "    return running_loss / len(dataloader), running_mae / len(dataloader)\n",
        "\n",
        "def eval(dataloader, model, loss_fn):\n",
        "    running_loss = 0\n",
        "    running_mae = 0\n",
        "    model.eval()\n",
        "    for X, y in dataloader:\n",
        "        preds = model(X.to(device))\n",
        "        loss = loss_fn(preds, y.to(device))\n",
        "        running_loss += loss.item()\n",
        "        running_loss += loss.item()\n",
        "        running_mae += MAE(preds, y.to(device)).item()\n",
        "    return running_loss / len(dataloader), running_mae / len(dataloader)"
      ],
      "metadata": {
        "id": "BsgViAi62J6S"
      },
      "execution_count": 11,
      "outputs": []
    },
    {
      "cell_type": "code",
      "source": [
        "input_dim = 512\n",
        "output_dim = 1\n",
        "epochs = 10\n",
        "\n",
        "model = LinearModel(input_dim, output_dim).to(device)\n",
        "optimizer = torch.optim.Adam(model.parameters(), lr=0.001)\n",
        "loss_fn = nn.MSELoss()\n",
        "\n",
        "\n",
        "train_losses = []\n",
        "test_losses = []\n",
        "for epoch in range(epochs):\n",
        "    train_loss, train_mae = train(train_dataloader, model, optimizer, loss_fn)\n",
        "    test_loss, test_mae = eval(test_dataloader, model, loss_fn)\n",
        "    train_losses.append(train_loss)\n",
        "    test_losses.append(test_loss)\n",
        "    print(f\"Epoch {epoch + 1}/{epochs}, Train Loss: {train_loss:.4f}, Test Loss: {test_loss:.4f}\")\n",
        "    print(f\"Train MAE: {train_mae:.4f}, Test MAE: {test_mae:.4f}\")"
      ],
      "metadata": {
        "colab": {
          "base_uri": "https://localhost:8080/"
        },
        "id": "LM9oqWRJzS5o",
        "outputId": "56d0ae19-01ce-489f-912c-4928e0fde75e"
      },
      "execution_count": 12,
      "outputs": [
        {
          "output_type": "stream",
          "name": "stdout",
          "text": [
            "Epoch 1/10, Train Loss: 0.1285, Test Loss: 0.0406\n",
            "Train MAE: 0.2112, Test MAE: 0.0984\n",
            "Epoch 2/10, Train Loss: 0.0179, Test Loss: 0.0281\n",
            "Train MAE: 0.0950, Test MAE: 0.0864\n",
            "Epoch 3/10, Train Loss: 0.0119, Test Loss: 0.0209\n",
            "Train MAE: 0.0770, Test MAE: 0.0714\n",
            "Epoch 4/10, Train Loss: 0.0094, Test Loss: 0.0155\n",
            "Train MAE: 0.0680, Test MAE: 0.0583\n",
            "Epoch 5/10, Train Loss: 0.0082, Test Loss: 0.0171\n",
            "Train MAE: 0.0641, Test MAE: 0.0646\n",
            "Epoch 6/10, Train Loss: 0.0070, Test Loss: 0.0206\n",
            "Train MAE: 0.0591, Test MAE: 0.0765\n",
            "Epoch 7/10, Train Loss: 0.0062, Test Loss: 0.0106\n",
            "Train MAE: 0.0555, Test MAE: 0.0476\n",
            "Epoch 8/10, Train Loss: 0.0056, Test Loss: 0.0117\n",
            "Train MAE: 0.0528, Test MAE: 0.0540\n",
            "Epoch 9/10, Train Loss: 0.0053, Test Loss: 0.0098\n",
            "Train MAE: 0.0514, Test MAE: 0.0465\n",
            "Epoch 10/10, Train Loss: 0.0050, Test Loss: 0.0091\n",
            "Train MAE: 0.0500, Test MAE: 0.0462\n"
          ]
        }
      ]
    },
    {
      "cell_type": "code",
      "source": [
        "plt.plot(train_losses, label='Train Loss')\n",
        "plt.plot(test_losses, label='Test Loss')\n",
        "plt.xlabel('Epoch')\n",
        "plt.ylabel('Loss')\n",
        "plt.legend()\n",
        "plt.show()"
      ],
      "metadata": {
        "colab": {
          "base_uri": "https://localhost:8080/",
          "height": 449
        },
        "id": "ynehA3mX2yWC",
        "outputId": "5e91b855-94e0-4c06-8b5e-c9f9e9f4a66f"
      },
      "execution_count": 14,
      "outputs": [
        {
          "output_type": "display_data",
          "data": {
            "text/plain": [
              "<Figure size 640x480 with 1 Axes>"
            ],
            "image/png": "[encoded data removed]"
          },
          "metadata": {}
        }
      ]
    },
    {
      "cell_type": "code",
      "source": [
        "input_dim = 512\n",
        "output_dim = 1\n",
        "epochs = 100\n",
        "\n",
        "model = LinearModel(input_dim, output_dim).to(device)\n",
        "optimizer = torch.optim.Adam(model.parameters(), lr=3e-4)\n",
        "loss_fn = nn.MSELoss()\n",
        "\n",
        "\n",
        "train_losses = []\n",
        "test_losses = []\n",
        "for epoch in range(epochs):\n",
        "    train_loss, train_mae = train(train_dataloader, model, optimizer, loss_fn)\n",
        "    test_loss, test_mae = eval(test_dataloader, model, loss_fn)\n",
        "    train_losses.append(train_loss)\n",
        "    test_losses.append(test_loss)\n",
        "    if (epoch % 10 == 0) or (epoch == epochs - 1):\n",
        "        print(f\"Epoch {epoch}/{epochs - 1}\")\n",
        "        print(f\"Train Loss: {train_loss:.4f}, Test Loss: {test_loss:.4f}\")\n",
        "        print(f\"Train MAE: {train_mae:.4f}, Test MAE: {test_mae:.4f}\")"
      ],
      "metadata": {
        "colab": {
          "base_uri": "https://localhost:8080/"
        },
        "id": "ufSyr1MS5AqG",
        "outputId": "7e9aefd5-b196-4d23-ae1e-cb86ea313c8a"
      },
      "execution_count": 17,
      "outputs": [
        {
          "output_type": "stream",
          "name": "stdout",
          "text": [
            "Epoch 0/99\n",
            "Train Loss: 0.1570, Test Loss: 0.0671\n",
            "Train MAE: 0.2438, Test MAE: 0.1341\n",
            "Epoch 10/99\n",
            "Train Loss: 0.0059, Test Loss: 0.0127\n",
            "Train MAE: 0.0534, Test MAE: 0.0531\n",
            "Epoch 20/99\n",
            "Train Loss: 0.0026, Test Loss: 0.0057\n",
            "Train MAE: 0.0357, Test MAE: 0.0354\n",
            "Epoch 30/99\n",
            "Train Loss: 0.0016, Test Loss: 0.0048\n",
            "Train MAE: 0.0284, Test MAE: 0.0350\n",
            "Epoch 40/99\n",
            "Train Loss: 0.0011, Test Loss: 0.0033\n",
            "Train MAE: 0.0231, Test MAE: 0.0274\n",
            "Epoch 50/99\n",
            "Train Loss: 0.0008, Test Loss: 0.0025\n",
            "Train MAE: 0.0205, Test MAE: 0.0219\n",
            "Epoch 60/99\n",
            "Train Loss: 0.0007, Test Loss: 0.0018\n",
            "Train MAE: 0.0186, Test MAE: 0.0180\n",
            "Epoch 70/99\n",
            "Train Loss: 0.0005, Test Loss: 0.0020\n",
            "Train MAE: 0.0165, Test MAE: 0.0206\n",
            "Epoch 80/99\n",
            "Train Loss: 0.0005, Test Loss: 0.0017\n",
            "Train MAE: 0.0156, Test MAE: 0.0171\n",
            "Epoch 90/99\n",
            "Train Loss: 0.0004, Test Loss: 0.0015\n",
            "Train MAE: 0.0153, Test MAE: 0.0156\n",
            "Epoch 99/99\n",
            "Train Loss: 0.0004, Test Loss: 0.0018\n",
            "Train MAE: 0.0152, Test MAE: 0.0200\n"
          ]
        }
      ]
    },
    {
      "cell_type": "code",
      "source": [
        "plt.plot(train_losses, label='Train Loss')\n",
        "plt.plot(test_losses, label='Test Loss')\n",
        "plt.xlabel('Epoch')\n",
        "plt.ylabel('Loss')\n",
        "plt.legend()\n",
        "plt.show()"
      ],
      "metadata": {
        "colab": {
          "base_uri": "https://localhost:8080/",
          "height": 449
        },
        "id": "HHbdQR2K5MJW",
        "outputId": "3058d8f8-d648-47f6-f9f6-91f504adead0"
      },
      "execution_count": 18,
      "outputs": [
        {
          "output_type": "display_data",
          "data": {
            "text/plain": [
              "<Figure size 640x480 with 1 Axes>"
            ],
            "image/png": "[encoded data removed]"
          },
          "metadata": {}
        }
      ]
    },
    {
      "cell_type": "code",
      "source": [
        "X_test.shape"
      ],
      "metadata": {
        "colab": {
          "base_uri": "https://localhost:8080/"
        },
        "id": "0kAWKudM-LTb",
        "outputId": "dfa17686-29d9-419b-d73f-44dce7276c76"
      },
      "execution_count": 33,
      "outputs": [
        {
          "output_type": "execute_result",
          "data": {
            "text/plain": [
              "torch.Size([26777, 32, 512])"
            ]
          },
          "metadata": {},
          "execution_count": 33
        }
      ]
    },
    {
      "cell_type": "code",
      "source": [
        "samples = 128\n",
        "random_samples = np.random.choice(X_test.shape[0], samples, replace=False)\n",
        "X_test_samples = X_test[random_samples]\n",
        "with torch.no_grad():\n",
        "    preds = model(X_test_samples.to(device))\n",
        "preds = preds.cpu().numpy()\n",
        "y_true = y_test[random_samples].cpu().numpy()"
      ],
      "metadata": {
        "id": "TCI2AJY98sVv"
      },
      "execution_count": 24,
      "outputs": []
    },
    {
      "cell_type": "code",
      "source": [
        "fig, ax = plt.subplots()\n",
        "for i in range(100):\n",
        "    samples = 128\n",
        "    random_samples = np.random.choice(X_test.shape[0], samples, replace=False)\n",
        "    X_test_samples = X_test[random_samples]\n",
        "    with torch.no_grad():\n",
        "        preds = model(X_test_samples.to(device))\n",
        "    preds = preds.cpu().numpy()\n",
        "    y_true = y_test[random_samples].cpu().numpy()\n",
        "    ax.scatter(y_true, preds)\n",
        "ax.set(\n",
        "    xlabel='True LogP',\n",
        "    ylabel='Predicted LogP',\n",
        "    title='True vs Predicted LogP',\n",
        "    xlim=(-6, 6),\n",
        "    ylim=(-6, 6)\n",
        ")\n",
        "plt.show()"
      ],
      "metadata": {
        "colab": {
          "base_uri": "https://localhost:8080/",
          "height": 472
        },
        "id": "BMWZAcvJ9IRU",
        "outputId": "f409634c-655d-42c7-e0e0-9e8ed205c506"
      },
      "execution_count": 37,
      "outputs": [
        {
          "output_type": "display_data",
          "data": {
            "text/plain": [
              "<Figure size 640x480 with 1 Axes>"
            ],
            "image/png": "[encoded data removed]"
          },
          "metadata": {}
        }
      ]
    },
    {
      "cell_type": "code",
      "source": [],
      "metadata": {
        "id": "LBjTnRjL9bwi"
      },
      "execution_count": null,
      "outputs": []
    }
  ]
}